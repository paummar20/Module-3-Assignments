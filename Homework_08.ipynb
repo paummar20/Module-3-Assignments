{
 "cells": [
  {
   "cell_type": "markdown",
   "metadata": {},
   "source": [
    "## Homework 08: Classification\n",
    "\n",
    "**Due:** Midnight on July 6th, BUT no late points will be charged if you get it in by the last late deadline. \n",
    "\n",
    "### Overview\n",
    "\n",
    "In this final homework before starting our course project, we will introduce the essential machine learning paradigm of **classification**. We will work with the **UCI Adult** dataset. This is a binary classification task.\n",
    "\n",
    "As we’ve discussed in this week’s lessons, the classification workflow is similar to what we’ve done for regression, with a few key differences:\n",
    "- We use `StratifiedKFold` instead of plain `KFold` so that every fold keeps the original class proportions.\n",
    "- We use classification metrics (e.g., accuracy, precision, recall, F1-score for binary classification) instead of regression metrics.\n",
    "- We could explore misclassified instances through a confusion matrix (though we will not do that in this homework).\n",
    "\n",
    "For this assignment, you’ll build a gradient boosting classification using `HistGradientBoostingClassifier` (HGBC) and explore ways of tuning the hyperparameters, including using the technique of early stopping, which basically avoiding have to tune the number of estimators (called `max_iter` in HGBC). \n",
    "\n",
    "HGBC has many advantages, which we explain below. \n",
    "\n",
    "\n",
    "### Grading\n",
    "\n",
    "There are 7 graded problems, each worth 7 points, and you get 1 point free if you complete the assignment. "
   ]
  },
  {
   "cell_type": "code",
   "execution_count": 1,
   "metadata": {},
   "outputs": [],
   "source": [
    "# General utilities\n",
    "import os\n",
    "import io\n",
    "import time\n",
    "import zipfile\n",
    "import requests\n",
    "from collections import Counter\n",
    "\n",
    "# Data handling and visualization\n",
    "import numpy as np\n",
    "import pandas as pd\n",
    "import matplotlib.pyplot as plt\n",
    "from tqdm import tqdm\n",
    "from IPython.display import display\n",
    " \n",
    "# Data source\n",
    "from sklearn.datasets import fetch_openml\n",
    "\n",
    " \n",
    "# scikit-learn core tools \n",
    "from sklearn.model_selection import (\n",
    "    train_test_split,\n",
    "    cross_val_score,\n",
    "    StratifiedKFold,\n",
    "    RandomizedSearchCV\n",
    ")\n",
    "\n",
    "from sklearn.pipeline import Pipeline\n",
    "from sklearn.compose import ColumnTransformer\n",
    "from sklearn.preprocessing import OrdinalEncoder\n",
    "\n",
    " \n",
    "# Import model \n",
    "from sklearn.ensemble import HistGradientBoostingClassifier\n",
    " \n",
    "# Metrics\n",
    "from sklearn.metrics import balanced_accuracy_score, classification_report\n",
    " \n",
    "# Distributions for random search\n",
    "from scipy.stats import loguniform, randint, uniform\n",
    "\n",
    "# pandas dtypes helpers\n",
    "from pandas.api.types import is_numeric_dtype, is_categorical_dtype\n",
    "from pandas import CategoricalDtype\n",
    "\n",
    "# Optuna Hyperparameter Search tool    (may need to be installed)\n",
    "import optuna\n",
    "\n",
    "\n",
    "# Misc\n",
    "\n",
    "random_seed = 42\n",
    "\n",
    "def format_hms(seconds):\n",
    "    return time.strftime(\"%H:%M:%S\", time.gmtime(seconds))\n",
    "\n"
   ]
  },
  {
   "cell_type": "markdown",
   "metadata": {},
   "source": [
    "### Prelude 1: Load and Preprocess the UCI Adult Income Dataset\n",
    "\n",
    "- Load the dataset from sklearn\n",
    "- Preliminary EDA\n",
    "- Feature Engineering "
   ]
  },
  {
   "cell_type": "code",
   "execution_count": 2,
   "metadata": {},
   "outputs": [
    {
     "name": "stdout",
     "output_type": "stream",
     "text": [
      "<class 'pandas.core.frame.DataFrame'>\n",
      "RangeIndex: 48842 entries, 0 to 48841\n",
      "Data columns (total 15 columns):\n",
      " #   Column          Non-Null Count  Dtype   \n",
      "---  ------          --------------  -----   \n",
      " 0   age             48842 non-null  int64   \n",
      " 1   workclass       46043 non-null  category\n",
      " 2   fnlwgt          48842 non-null  int64   \n",
      " 3   education       48842 non-null  category\n",
      " 4   education-num   48842 non-null  int64   \n",
      " 5   marital-status  48842 non-null  category\n",
      " 6   occupation      46033 non-null  category\n",
      " 7   relationship    48842 non-null  category\n",
      " 8   race            48842 non-null  category\n",
      " 9   sex             48842 non-null  category\n",
      " 10  capital-gain    48842 non-null  int64   \n",
      " 11  capital-loss    48842 non-null  int64   \n",
      " 12  hours-per-week  48842 non-null  int64   \n",
      " 13  native-country  47985 non-null  category\n",
      " 14  class           48842 non-null  category\n",
      "dtypes: category(9), int64(6)\n",
      "memory usage: 2.7 MB\n"
     ]
    }
   ],
   "source": [
    "# Load and clean\n",
    "df = fetch_openml(name='adult', version=2, as_frame=True).frame\n",
    "\n",
    "df.replace(\"?\", np.nan, inplace=True)            # Some datasets use ? instead of Nan for missing data\n",
    "\n",
    "df.info()"
   ]
  },
  {
   "cell_type": "markdown",
   "metadata": {},
   "source": [
    "#### Check: Is the dataset imbalanced?"
   ]
  },
  {
   "cell_type": "code",
   "execution_count": 3,
   "metadata": {},
   "outputs": [
    {
     "name": "stdout",
     "output_type": "stream",
     "text": [
      "class\n",
      "<=50K    0.760718\n",
      ">50K     0.239282\n",
      "Name: proportion, dtype: float64\n"
     ]
    }
   ],
   "source": [
    "print(df['class'].value_counts(normalize=True))"
   ]
  },
  {
   "cell_type": "markdown",
   "metadata": {},
   "source": [
    "**YES:** It looks like this dataset is somewhat imbalanced. Therefore, we will \n",
    "1. Tell the model to compensate during training by setting `class_weight='balanced'` when defining the model;\n",
    "2. Evaluate it `balanced_accuracy` instead of `accuracy` and with class-aware metrics (precision, recall, F1); and\n",
    "3. [Optional] Adjust the probability threshold instead of relying on raw accuracy alone after examining the precision-recall trade-off you observe at 0.5.\n",
    "    "
   ]
  },
  {
   "cell_type": "markdown",
   "metadata": {},
   "source": [
    "### Feature Engineering\n",
    "\n",
    "Based on the considerations in **Appendix One**, we'll make the following changes to the dataset to facilitate training:\n",
    "\n",
    "\n",
    "1. Drop `fnlwgt` and `education`.   \n",
    "3. Replace `capital-gain` and `capital-loss` by their difference `capital_net` and add a log-scaled version `capital_net_log`.\n"
   ]
  },
  {
   "cell_type": "code",
   "execution_count": 4,
   "metadata": {},
   "outputs": [
    {
     "name": "stdout",
     "output_type": "stream",
     "text": [
      "<class 'pandas.core.frame.DataFrame'>\n",
      "RangeIndex: 48842 entries, 0 to 48841\n",
      "Data columns (total 13 columns):\n",
      " #   Column           Non-Null Count  Dtype   \n",
      "---  ------           --------------  -----   \n",
      " 0   age              48842 non-null  int64   \n",
      " 1   workclass        46043 non-null  category\n",
      " 2   education-num    48842 non-null  int64   \n",
      " 3   marital-status   48842 non-null  category\n",
      " 4   occupation       46033 non-null  category\n",
      " 5   relationship     48842 non-null  category\n",
      " 6   race             48842 non-null  category\n",
      " 7   sex              48842 non-null  category\n",
      " 8   hours-per-week   48842 non-null  int64   \n",
      " 9   native-country   47985 non-null  category\n",
      " 10  class            48842 non-null  category\n",
      " 11  capital_net      48842 non-null  int64   \n",
      " 12  capital_net_log  48842 non-null  float64 \n",
      "dtypes: category(8), float64(1), int64(4)\n",
      "memory usage: 2.2 MB\n"
     ]
    }
   ],
   "source": [
    "# Drop the survey-weight column\n",
    "df_eng = df.drop(columns=[\"fnlwgt\"])\n",
    "\n",
    "# Keep only the ordinal education feature\n",
    "df_eng = df_eng.drop(columns=[\"education\"])      # retain 'education-num'\n",
    "\n",
    "# Combine capital gains and losses, add a log-scaled variant\n",
    "df_eng[\"capital_net\"]     = df_eng[\"capital-gain\"] - df_eng[\"capital-loss\"]\n",
    "df_eng[\"capital_net_log\"] = np.log1p(df_eng[\"capital_net\"].clip(lower=0))\n",
    "df_eng = df_eng.drop(columns=[\"capital-gain\", \"capital-loss\"])\n",
    "\n",
    "# check\n",
    "df_eng.info()"
   ]
  },
  {
   "cell_type": "markdown",
   "metadata": {},
   "source": [
    "#### Separate target and split\n",
    "\n",
    "Create the feature set `X` and the target set `y` (using `class` as the target) and split the dataset into 80% training and 20% testing sets, making sure to stratify."
   ]
  },
  {
   "cell_type": "code",
   "execution_count": 5,
   "metadata": {},
   "outputs": [
    {
     "name": "stdout",
     "output_type": "stream",
     "text": [
      "Train: (39073, 12) (39073,)\n",
      "Test : (9769, 12) (9769,)\n"
     ]
    }
   ],
   "source": [
    "\n",
    "X = df_eng.drop(columns=[\"class\"])\n",
    "y = (df_eng[\"class\"] == \">50K\").astype(int)\n",
    "\n",
    "# Split (with stratification)\n",
    "X_train, X_test, y_train, y_test = train_test_split(\n",
    "    X, y,\n",
    "    test_size=0.2,\n",
    "    random_state=random_seed,\n",
    "    stratify=y                           # So same proportion of classes in train and test sets\n",
    ")\n",
    "\n",
    "print(\"Train:\", X_train.shape, y_train.shape)\n",
    "print(\"Test :\", X_test.shape,  y_test.shape)"
   ]
  },
  {
   "cell_type": "markdown",
   "metadata": {},
   "source": [
    "### Prelude 2: Create a data pipeline and the `HistGradientBoostingClassifier` model\n",
    "\n",
    "Histogram-based gradient boosting improves on the standard version by:\n",
    "\n",
    "* **Histogram splits:** bins each feature into ≤ `max_bins` quantiles (i.e., each bin is approximately the same size) and tests splits only between bins, slashing compute time and scaling to large data sets. Default for `max_bins` = 255. \n",
    "* **Native NaN handling:** treats missing values as their own bin—no imputation needed.\n",
    "* **Native Categorical Support**: accepts integer-encoded categories directly and tests “category c vs. all others” splits, eliminating one-hot blow-ups and fake orderings.\n",
    "* **Built-in early stopping:** stops training after no improvement in validation loss after `n_iter_no_change` rounds. `tol` defines \"improvement\" (default is 1e-7). \n",
    "* **Leaf shrinkage:** adds `l2_regularization`, which ridge-shrinks each leaf value (without changing tree shape) so tiny, noisy leaves have less effect.\n",
    "\n",
    ">**Summary:**  Histogram-based GB trades a tiny approximation error (binning) for a **huge speed-up** and adds extra conveniences, making it the preferred choice for large tabular data sets. Tuning workflow relies on **Early stopping** to stop training before overfitting occurs. "
   ]
  },
  {
   "cell_type": "code",
   "execution_count": 6,
   "metadata": {},
   "outputs": [],
   "source": [
    "# Define a baseline model \n",
    "\n",
    "HGBC_model = HistGradientBoostingClassifier(\n",
    "    # tree structure and learning rate\n",
    "    learning_rate=0.1,            # These 5 parameters are at defaults for our baseline training in Problem 1             \n",
    "    max_leaf_nodes=31,            # but will be tuned by randomized search in Problem 2 and Optuna in Problem 3               \n",
    "    max_depth=None,               \n",
    "    min_samples_leaf=20,          \n",
    "    l2_regularization=0.0,        \n",
    "\n",
    "    # bins and iteration\n",
    "    max_bins=255,                 # default\n",
    "    max_iter=500,                 # high enough for early stopping\n",
    "    early_stopping=True,\n",
    "    n_iter_no_change=20,\n",
    "    validation_fraction=0.2,      # 20% monitored for early stopping\n",
    "    tol=1e-7,                     # default tolerance for validation improvement\n",
    "\n",
    "    # class imbalance\n",
    "    class_weight=\"balanced\",\n",
    "\n",
    "    random_state=random_seed,\n",
    "    verbose=0\n",
    ")\n"
   ]
  },
  {
   "cell_type": "markdown",
   "metadata": {},
   "source": [
    "### Create a pipeline appropriate for HGBC \n",
    "\n",
    "**Why use a `Pipeline` instead of encoding in the dataset first?**\n",
    "\n",
    "* **Avoid data leakage.** In each CV fold, the `OrdinalEncoder` is refit only on that fold’s training data, so the validation split never influences the encoder.\n",
    "* **Single, reusable object.** The pipeline bundles preprocessing + model, letting you call `fit`/`predict` on raw data anywhere (CV, Optuna, production) with identical behavior.\n",
    "* **Compatible with search tools.** `cross_validate`, `GridSearchCV`, and Optuna expect an estimator that can be cloned and refit; a pipeline meets that requirement automatically.\n",
    "\n",
    "Put simply, the pipeline gives you leak-free evaluation and portable, hassle-free tuning without extra code.\n"
   ]
  },
  {
   "cell_type": "code",
   "execution_count": 7,
   "metadata": {},
   "outputs": [],
   "source": [
    "enc = OrdinalEncoder(\n",
    "    handle_unknown=\"use_encoded_value\",   # Allow unseen categories during transform\n",
    "    unknown_value=-1,                     # Code for unseen categories\n",
    "    encoded_missing_value=-2,             # Code for missing values (NaN)\n",
    "    dtype=np.int64                        # Needed for HistGradientBoostingClassifier\n",
    ")\n",
    "\n",
    "# Categorical features\n",
    "cat_cols = X.select_dtypes(exclude=[\"number\"]).columns.tolist()\n",
    "\n",
    "# Numeric features (everything that isn’t object / category)\n",
    "num_cols = X.select_dtypes(include=[\"number\"]).columns.tolist()\n",
    "\n",
    "preprocess = ColumnTransformer(\n",
    "    [(\"cat\", enc, cat_cols),\n",
    "     (\"num\", \"passthrough\", num_cols)]\n",
    ")\n",
    "\n",
    "pipelined_model = Pipeline([\n",
    "    (\"prep\", preprocess),\n",
    "    (\"gb\",   HGBC_model)\n",
    "])"
   ]
  },
  {
   "cell_type": "markdown",
   "metadata": {},
   "source": [
    "## Problem 1: Baseline Cross-Validation with F1\n",
    "\n",
    "In this problem, you will run a baseline cross-validation evaluation of your `HistGradientBoostingClassifier` pipeline, using `HGBC_model` defined above. \n",
    "\n",
    "**Background:**\n",
    "\n",
    "* Since the Adult dataset is imbalanced (about 24% positives, 76% negatives), accuracy alone is not reliable.\n",
    "* We will use the **F1 score** as the evaluation metric, since it balances precision (avoiding false positives) and recall (avoiding false negatives) in a single measure. This is a fairer metric for imbalanced classification, where both types of error matter.\n",
    "* We will apply **5-fold stratified cross-validation** to make sure each fold has the same proportion of the classes as the original dataset.\n",
    "* Repeated cross-validation is optional and not required here, because the Adult dataset is large and `HistGradientBoostingClassifier` is robust to small sampling differences. \n",
    "\n",
    "**Instructions:**\n",
    "\n",
    "1. Set up a `StratifiedKFold` cross-validation object with 5 splits, shuffling enabled, and `random_state=random_seed`.\n",
    "2. Use `cross_val_score` to estimate the mean F1 score and its standard deviation across the folds.\n",
    "3. Print out the mean and standard deviation of the F1 score, rounded to 4 decimal places.\n",
    "4. Answer the graded question.\n"
   ]
  },
  {
   "cell_type": "code",
   "execution_count": 8,
   "metadata": {},
   "outputs": [],
   "source": [
    "# Your code here\n"
   ]
  },
  {
   "cell_type": "markdown",
   "metadata": {},
   "source": [
    "### Problem 1 Graded Answer\n",
    "\n",
    "Set `a1` to the mean F1 score of the baseline model. "
   ]
  },
  {
   "cell_type": "code",
   "execution_count": 9,
   "metadata": {},
   "outputs": [],
   "source": [
    " # Your answer here\n",
    "\n",
    "a1 = 0                     # replace 0 with an expression"
   ]
  },
  {
   "cell_type": "code",
   "execution_count": 10,
   "metadata": {},
   "outputs": [
    {
     "name": "stdout",
     "output_type": "stream",
     "text": [
      "a1 = 0.0000\n"
     ]
    }
   ],
   "source": [
    "# DO NOT change this cell in any way\n",
    "\n",
    "print(f'a1 = {a1:.4f}')"
   ]
  },
  {
   "cell_type": "markdown",
   "metadata": {},
   "source": [
    "## Problem 2: Hyperparameter Optimization with Randomized Search for F1\n",
    "\n",
    "In this problem, you will tune your `pipelined_model` using `RandomizedSearchCV` to identify the best combination of tree structure and learning rate parameters that maximize the **F1 score**.\n",
    "\n",
    "**Background:**\n",
    "The F1 score is our main metric because it balances precision and recall on an imbalanced dataset. Optimizing hyperparameters for F1 ensures we manage both false positives and false negatives in a single measure.\n",
    "\n",
    "**Instructions:**\n",
    "\n",
    "1. Set up a randomized search over the following hyperparameter ranges, using appropriate random-number distributions:\n",
    "\n",
    "   * `learning_rate` (log-uniform between 1e-3 and 0.3)\n",
    "   * `max_leaf_nodes` (integer from 16 to 256)\n",
    "   * `max_depth` (integer from 2 to 10)\n",
    "   * `min_samples_leaf` (integer from 10 to 200)\n",
    "   * `l2_regularization` (uniform between 0.0 and 2.0)\n",
    "2. Use **5-fold stratified cross-validation**, with the same settings as in Problem 1.\n",
    "3. Set `n_iter` to at least 100 trials. More trials will generally yield better results, if your time and machine allow.\n",
    "4. After running the search, show a neatly formatted table of the top 5 results, using `display(...)` showing their mean F1 scores, standard deviation, and the chosen hyperparameter values.\n",
    "5. Answer the graded question.\n",
    "\n",
    "\n"
   ]
  },
  {
   "cell_type": "code",
   "execution_count": 11,
   "metadata": {},
   "outputs": [],
   "source": [
    "# Your code here\n",
    "\n"
   ]
  },
  {
   "cell_type": "markdown",
   "metadata": {},
   "source": [
    "### Problem 2 Graded Answer\n",
    "\n",
    "Set `a2` to the mean F1 score of the best model found. "
   ]
  },
  {
   "cell_type": "code",
   "execution_count": 12,
   "metadata": {},
   "outputs": [],
   "source": [
    " # Your answer here\n",
    "\n",
    "a2 = 0                     # replace 0 with your answer, may copy from the displayed results"
   ]
  },
  {
   "cell_type": "code",
   "execution_count": 13,
   "metadata": {},
   "outputs": [
    {
     "name": "stdout",
     "output_type": "stream",
     "text": [
      "a2 = 0.0000\n"
     ]
    }
   ],
   "source": [
    "# DO NOT change this cell in any way\n",
    "\n",
    "print(f'a2 = {a2:.4f}')"
   ]
  },
  {
   "cell_type": "markdown",
   "metadata": {},
   "source": [
    "## Problem 3: Hyperparameter Optimization with Optuna for F1\n",
    "\n",
    "In this problem, you will explore **Optuna**, a powerful hyperparameter optimization framework, to identify the best combination of hyperparameters that maximize the F1 score of your `pipelined_model`.\n",
    "\n",
    "**Background:**\n",
    "Optuna uses a smarter sampling strategy than grid search or randomized search, allowing you to explore the hyperparameter space more efficiently. It also supports *pruning*, which can stop unpromising trials early to save time. This makes it a popular SOTA optimization tool.\n",
    "\n",
    "**Before you start** browse the [Optuna documentation](https://optuna.org) and view the [tutorial video](https://optuna.readthedocs.io/en/stable/tutorial/index.html). \n",
    "\n",
    "As before, we focus on the **F1 score** because it balances precision and recall, making it more robust on an imbalanced dataset.\n",
    "\n",
    "**Instructions:**\n",
    "\n",
    "1. Define an Optuna objective function to optimize F1 score, sampling the exact same hyperparameter ranges you did in Problem 2 and using the same CV settings.  \n",
    "3. Set up an Optuna study with a reasonable number of trials (e.g., 100–500 depending on runtime resources--on my machine Optuna runs about 10x faster than randomized search for the same number of trials, but YMMV).\n",
    "4. After running the optimization, `display` a clean table with the top 5 trials showing their F1 scores and corresponding hyperparameter settings.\n",
    "5. Answer the graded question. \n",
    "\n",
    "**Note:**  There are many resources on Optuna you can find on the web, but for this problem, you have my permission to let ChatGPT write the code for you. "
   ]
  },
  {
   "cell_type": "code",
   "execution_count": 14,
   "metadata": {},
   "outputs": [],
   "source": [
    "# Your code here\n",
    "\n"
   ]
  },
  {
   "cell_type": "markdown",
   "metadata": {},
   "source": [
    "### Problem 3 Graded Answer\n",
    "\n",
    "Set `a3` to the mean F1 score of the best model found. "
   ]
  },
  {
   "cell_type": "code",
   "execution_count": 15,
   "metadata": {},
   "outputs": [],
   "source": [
    " # Your answer here\n",
    "\n",
    "a3 = 0                     # replace 0 with your answer, may copy from the displayed results"
   ]
  },
  {
   "cell_type": "code",
   "execution_count": 16,
   "metadata": {},
   "outputs": [
    {
     "name": "stdout",
     "output_type": "stream",
     "text": [
      "a3 = 0.0000\n"
     ]
    }
   ],
   "source": [
    "# DO NOT change this cell in any way\n",
    "\n",
    "print(f'a3 = {a3:.4f}')"
   ]
  },
  {
   "cell_type": "markdown",
   "metadata": {},
   "source": [
    "## Problem 4: Final Model Evaluation on Test Set\n",
    "\n",
    "In this problem, you will take the best hyperparameter configuration you found in your earlier experiments (Randomized Search or Optuna) and fully evaluate the resulting model on the test set.\n",
    "\n",
    "**Background:**\n",
    "When performing hyperparameter tuning, we typically optimize for a single metric (e.g., F1). However, before deployment, it is essential to check **all relevant metrics** on the final test set to understand the model’s behavior in a balanced way.\n",
    "\n",
    "**Instructions:**\n",
    "\n",
    "1. Take the best hyperparameters you found in Problems 2 or 3 and apply them to your `pipelined_model`.\n",
    "2. Re-train this final tuned model on the **entire training set** (not just the folds).\n",
    "3. Evaluate the final model on the heldout **test set**, reporting the following metrics:\n",
    "\n",
    "   * Precision\n",
    "   * Recall\n",
    "   * F1 score\n",
    "   * Balanced accuracy\n",
    "4. Use `classification_report` **on the test set** to print precision, recall, and F1 score, and use `balanced_accuracy_score` separately to calculate and print balanced accuracy.\n",
    "5. Answer the graded questions.\n",
    "\n",
    "**Note:** We evaluate the metrics on the test set because it was never seen during training or hyperparameter tuning. This gives us an unbiased estimate of how the model will perform on truly unseen data. Evaluating on the training set would be misleading, because the model has already learned from that data and could appear artificially good.\n"
   ]
  },
  {
   "cell_type": "code",
   "execution_count": 17,
   "metadata": {},
   "outputs": [],
   "source": [
    "# Your code here\n",
    "\n"
   ]
  },
  {
   "cell_type": "markdown",
   "metadata": {},
   "source": [
    "### Problem 4 Graded Questions\n",
    "\n",
    "- Set `a4a` to the balanced accuracy score of the best model.\n",
    "- Set `a4b` to the macro average precision of this model.\n",
    "- Set `a4c` to the macro average recall score of the this model.\n",
    "\n",
    "**Note:** Macro average takes the mean of each class’s precision/recall without considering how many samples each class has, which is appropriate for a balanced evaluation."
   ]
  },
  {
   "cell_type": "code",
   "execution_count": 18,
   "metadata": {},
   "outputs": [],
   "source": [
    " # Your answer here\n",
    "\n",
    "a4a = 0                     # replace 0 with your answer, use variable or expression from above"
   ]
  },
  {
   "cell_type": "code",
   "execution_count": 19,
   "metadata": {},
   "outputs": [
    {
     "name": "stdout",
     "output_type": "stream",
     "text": [
      "a4a = 0.0000\n"
     ]
    }
   ],
   "source": [
    "# DO NOT change this cell in any way\n",
    "\n",
    "print(f'a4a = {a4a:.4f}')"
   ]
  },
  {
   "cell_type": "code",
   "execution_count": 20,
   "metadata": {},
   "outputs": [],
   "source": [
    " # Your answer here\n",
    "\n",
    "a4b = 0                     # replace 0 with your answer, may copy from the displayed results"
   ]
  },
  {
   "cell_type": "code",
   "execution_count": 21,
   "metadata": {},
   "outputs": [
    {
     "name": "stdout",
     "output_type": "stream",
     "text": [
      "a4b = 0.0000\n"
     ]
    }
   ],
   "source": [
    "# DO NOT change this cell in any way\n",
    "\n",
    "print(f'a4b = {a4b:.4f}')"
   ]
  },
  {
   "cell_type": "code",
   "execution_count": 22,
   "metadata": {},
   "outputs": [],
   "source": [
    " # Your answer here\n",
    "\n",
    "a4c = 0                     # replace 0 with your answer, may copy from the displayed results"
   ]
  },
  {
   "cell_type": "code",
   "execution_count": 23,
   "metadata": {},
   "outputs": [
    {
     "name": "stdout",
     "output_type": "stream",
     "text": [
      "a4c = 0.0000\n"
     ]
    }
   ],
   "source": [
    "# DO NOT change this cell in any way\n",
    "\n",
    "print(f'a4c = {a4c:.4f}')"
   ]
  },
  {
   "cell_type": "markdown",
   "metadata": {},
   "source": [
    "## Problem 5: Understanding Precision, Recall, F1, and Balanced Accuracy\n",
    "\n",
    "**Tutorial**\n",
    "\n",
    "In binary classification, you will often evaluate these key metrics:\n",
    "\n",
    "* **Precision**: *Of all the positive predictions the model made, how many were actually correct?*\n",
    "\n",
    "  * High precision = few false positives\n",
    "  * Low precision = many false positives\n",
    "\n",
    "* **Recall**: *Of all the actual positive cases, how many did the model correctly identify?*\n",
    "\n",
    "  * High recall = few false negatives\n",
    "  * Low recall = many false negatives\n",
    "\n",
    "* **F1 score**: The harmonic mean of precision and recall, which balances them in a single measure.\n",
    "\n",
    "  * F1 is **highest** when precision and recall are both high and similar in value.\n",
    "  * If precision and recall are unbalanced, F1 will drop to reflect that imbalance.\n",
    "\n",
    "* **Balanced accuracy**: The average of recall across both classes (positive and negative).\n",
    "\n",
    "  * It ensures the classifier is performing reasonably well on *both* groups, correcting for class imbalance.\n",
    "  * Balanced accuracy is especially important if the classes are very unequal in size.\n",
    "\n",
    "**Typical trade-offs to remember:**\n",
    "\n",
    "* **Higher recall, lower precision**: the model finds most true positives but also mislabels some negatives as positives\n",
    "* **Higher precision, lower recall**: the model is strict about positive predictions, but misses some true positives\n",
    "* **Balanced precision and recall (good F1)**: a practical compromise\n",
    "* **Balanced accuracy**: checks fairness across both classes"
   ]
  },
  {
   "cell_type": "markdown",
   "metadata": {},
   "source": [
    "###  Problem 5 Graded Question (multiple choice)\n",
    "\n",
    "A bank uses your model to identify customers earning over $50K for a premium product invitation. Based on your final test set evaluation, including macro-averaged precision and recall, which of the following best describes what might happen?\n",
    "\n",
    "(1) The bank will miss some eligible high-income customers, but will avoid marketing mistakes by sending invitations only to those it is  confident about.\n",
    "\n",
    "(2) The bank will successfully reach most high-income customers, but will also waste resources sending invitations to some low-income customers.\n",
    "\n",
    "(3) The bank will perfectly identify all high-income and low-income customers, resulting in no wasted invitations and no missed opportunities.\n"
   ]
  },
  {
   "cell_type": "code",
   "execution_count": 24,
   "metadata": {},
   "outputs": [],
   "source": [
    " # Your answer here\n",
    "\n",
    "a5 = 0                     # replace 0 with one of 1, 2, or 3"
   ]
  },
  {
   "cell_type": "code",
   "execution_count": 25,
   "metadata": {},
   "outputs": [
    {
     "name": "stdout",
     "output_type": "stream",
     "text": [
      "a5 = 0\n"
     ]
    }
   ],
   "source": [
    "# DO NOT change this cell in any way\n",
    "\n",
    "print(f'a5 = {a5}')"
   ]
  },
  {
   "cell_type": "markdown",
   "metadata": {},
   "source": [
    "### Appendix One: Feature Engineering\n",
    "\n",
    "Here are some practical feature-engineering tweaks worth considering (beyond simply ordinal-encoding the categoricals)\n",
    "\n",
    "| Feature(s)                                                           | Why the tweak can help                                                                                                                                                     | How to do it (quick version)                                                                                                                                                    | Keep / drop?      |\n",
    "| -------------------------------------------------------------------- | -------------------------------------------------------------------------------------------------------------------------------------------------------------------------- | ------------------------------------------------------------------------------------------------------------------------------------------------------------------------------- | ----------------- |\n",
    "| **`fnlwgt`**                                                         | Survey sampling weight, not a predictor. Leaving it in often lets the model “cheat.”                                                                                       | `df = df.drop(columns=[\"fnlwgt\"])`                                                                                                                                              | **Drop**          |\n",
    "| **`education` *vs.* `education-num`**                                | They encode the **same** information twice (categorical label and its ordinal rank). Keeping both is redundant and can cause leakage of a perfectly predictive feature.    | Usually keep **only one**. For tree models `education-num` is simplest: `df = df.drop(columns=[\"education\"])`                                                                   | **Drop one**      |\n",
    "| **`capital-gain`, `capital-loss`**                                   | Highly skewed; most values are zero with a long upper tail. The sign (gain vs. loss) matters, but treating them separately wastes a feature slot.                          | 1) Combine: `df[\"capital_net\"] = df[\"capital-gain\"] - df[\"capital-loss\"]`; 2) Log-transform to reduce skew: `df[\"capital_net_log\"] = np.log1p(df[\"capital_net\"].clip(lower=0))` | Replace originals |\n",
    "| **`age`, `hours-per-week`**                                          | Continuous but with natural plateaus—trees handle splits fine, yet log or square-root scaling can soften extreme values; bucketing makes partial-dependence plots clearer. | Simple bucket: `df[\"age_bin\"] = pd.cut(df[\"age\"], bins=[16,25,35,45,55,65,90])` (optional)                                                                                      | Optional          |\n",
    "| **Missing categories** (`workclass`, `occupation`, `native-country`) | HGB handles `-1`/`-2` codes fine, but you may want *explicit* “Missing” bucket for interpretability.                                                                       | Use `encoded_missing_value=-2` during encoding.                                                                                                            | Keep as is        |\n",
    "| **Rare categories in `native-country`**                              | Hundreds of low-frequency countries dilute signal; grouping boosts stability.                                                                                              | Map infrequent categories to “Other”:                                                                                                                                           |                   |\n",
    "\n",
    "\n",
    "#### Minimum set of tweaks (good baseline, low effort)\n",
    "\n",
    "1. **Drop `fnlwgt`.**  \n",
    "2. **Keep `education-num`, drop `education`.**  \n",
    "3. **Combine `capital-gain` and `capital-loss` into `capital_net`** (optionally add a log-scaled version).  \n",
    "4. Leave other numeric/categorical features as is; your histogram-GBDT will cope.\n",
    "\n",
    "\n"
   ]
  }
 ],
 "metadata": {
  "kernelspec": {
   "display_name": "Python 3 (ipykernel)",
   "language": "python",
   "name": "python3"
  },
  "language_info": {
   "codemirror_mode": {
    "name": "ipython",
    "version": 3
   },
   "file_extension": ".py",
   "mimetype": "text/x-python",
   "name": "python",
   "nbconvert_exporter": "python",
   "pygments_lexer": "ipython3",
   "version": "3.10.13"
  }
 },
 "nbformat": 4,
 "nbformat_minor": 4
}
