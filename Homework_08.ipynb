{
 "cells": [
  {
   "cell_type": "markdown",
   "metadata": {},
   "source": [
    "## Homework 08: Classification\n",
    "\n",
    "**Due:** Midnight on July 6th, BUT no late points will be charged if you get it in by the last late deadline. \n",
    "\n",
    "### Overview\n",
    "\n",
    "In this final homework before starting our course project, we will introduce the essential machine learning paradigm of **classification**. We will work with the **UCI Adult** dataset. This is a binary classification task.\n",
    "\n",
    "As we’ve discussed in this week’s lessons, the classification workflow is similar to what we’ve done for regression, with a few key differences:\n",
    "- We use `StratifiedKFold` instead of plain `KFold` so that every fold keeps the original class proportions.\n",
    "- We use classification metrics (e.g., accuracy, precision, recall, F1-score for binary classification) instead of regression metrics.\n",
    "- We could explore misclassified instances through a confusion matrix (though we will not do that in this homework).\n",
    "\n",
    "For this assignment, you’ll build a gradient boosting classification using `HistGradientBoostingClassifier` (HGBC) and explore ways of tuning the hyperparameters, including using the technique of early stopping, which basically avoiding have to tune the number of estimators (called `max_iter` in HGBC). \n",
    "\n",
    "HGBC has many advantages, which we explain below. \n",
    "\n",
    "\n",
    "### Grading\n",
    "\n",
    "There are 7 graded problems, each worth 7 points, and you get 1 point free if you complete the assignment. "
   ]
  },
  {
   "cell_type": "code",
   "execution_count": 1,
   "metadata": {},
   "outputs": [
    {
     "name": "stderr",
     "output_type": "stream",
     "text": [
      "/usr/local/python/3.12.1/lib/python3.12/site-packages/tqdm/auto.py:21: TqdmWarning: IProgress not found. Please update jupyter and ipywidgets. See https://ipywidgets.readthedocs.io/en/stable/user_install.html\n",
      "  from .autonotebook import tqdm as notebook_tqdm\n"
     ]
    }
   ],
   "source": [
    "# General utilities\n",
    "import os\n",
    "import io\n",
    "import time\n",
    "import zipfile\n",
    "import requests\n",
    "from collections import Counter\n",
    "\n",
    "# Data handling and visualization\n",
    "import numpy as np\n",
    "import pandas as pd\n",
    "import matplotlib.pyplot as plt\n",
    "from tqdm import tqdm\n",
    "from IPython.display import display\n",
    " \n",
    "# Data source\n",
    "from sklearn.datasets import fetch_openml\n",
    "\n",
    " \n",
    "# scikit-learn core tools \n",
    "from sklearn.model_selection import (\n",
    "    train_test_split,\n",
    "    cross_val_score,\n",
    "    StratifiedKFold,\n",
    "    RandomizedSearchCV\n",
    ")\n",
    "\n",
    "from sklearn.pipeline import Pipeline\n",
    "from sklearn.compose import ColumnTransformer\n",
    "from sklearn.preprocessing import OrdinalEncoder\n",
    "\n",
    " \n",
    "# Import model \n",
    "from sklearn.ensemble import HistGradientBoostingClassifier\n",
    " \n",
    "# Metrics\n",
    "from sklearn.metrics import balanced_accuracy_score, classification_report\n",
    " \n",
    "# Distributions for random search\n",
    "from scipy.stats import loguniform, randint, uniform\n",
    "\n",
    "# pandas dtypes helpers\n",
    "from pandas.api.types import is_numeric_dtype, is_categorical_dtype\n",
    "from pandas import CategoricalDtype\n",
    "\n",
    "# Optuna Hyperparameter Search tool    (may need to be installed)\n",
    "import optuna\n",
    "\n",
    "\n",
    "# Misc\n",
    "\n",
    "random_seed = 42\n",
    "\n",
    "def format_hms(seconds):\n",
    "    return time.strftime(\"%H:%M:%S\", time.gmtime(seconds))\n",
    "\n"
   ]
  },
  {
   "cell_type": "markdown",
   "metadata": {},
   "source": [
    "### Prelude 1: Load and Preprocess the UCI Adult Income Dataset\n",
    "\n",
    "- Load the dataset from sklearn\n",
    "- Preliminary EDA\n",
    "- Feature Engineering "
   ]
  },
  {
   "cell_type": "code",
   "execution_count": 2,
   "metadata": {},
   "outputs": [
    {
     "name": "stdout",
     "output_type": "stream",
     "text": [
      "<class 'pandas.core.frame.DataFrame'>\n",
      "RangeIndex: 48842 entries, 0 to 48841\n",
      "Data columns (total 15 columns):\n",
      " #   Column          Non-Null Count  Dtype   \n",
      "---  ------          --------------  -----   \n",
      " 0   age             48842 non-null  int64   \n",
      " 1   workclass       46043 non-null  category\n",
      " 2   fnlwgt          48842 non-null  int64   \n",
      " 3   education       48842 non-null  category\n",
      " 4   education-num   48842 non-null  int64   \n",
      " 5   marital-status  48842 non-null  category\n",
      " 6   occupation      46033 non-null  category\n",
      " 7   relationship    48842 non-null  category\n",
      " 8   race            48842 non-null  category\n",
      " 9   sex             48842 non-null  category\n",
      " 10  capital-gain    48842 non-null  int64   \n",
      " 11  capital-loss    48842 non-null  int64   \n",
      " 12  hours-per-week  48842 non-null  int64   \n",
      " 13  native-country  47985 non-null  category\n",
      " 14  class           48842 non-null  category\n",
      "dtypes: category(9), int64(6)\n",
      "memory usage: 2.7 MB\n"
     ]
    }
   ],
   "source": [
    "# Load and clean\n",
    "df = fetch_openml(name='adult', version=2, as_frame=True).frame\n",
    "\n",
    "df.replace(\"?\", np.nan, inplace=True)            # Some datasets use ? instead of Nan for missing data\n",
    "\n",
    "df.info()"
   ]
  },
  {
   "cell_type": "markdown",
   "metadata": {},
   "source": [
    "#### Check: Is the dataset imbalanced?"
   ]
  },
  {
   "cell_type": "code",
   "execution_count": 3,
   "metadata": {},
   "outputs": [
    {
     "name": "stdout",
     "output_type": "stream",
     "text": [
      "class\n",
      "<=50K    0.760718\n",
      ">50K     0.239282\n",
      "Name: proportion, dtype: float64\n"
     ]
    }
   ],
   "source": [
    "print(df['class'].value_counts(normalize=True))"
   ]
  },
  {
   "cell_type": "markdown",
   "metadata": {},
   "source": [
    "**YES:** It looks like this dataset is somewhat imbalanced. Therefore, we will \n",
    "1. Tell the model to compensate during training by setting `class_weight='balanced'` when defining the model;\n",
    "2. Evaluate it `balanced_accuracy` instead of `accuracy` and with class-aware metrics (precision, recall, F1); and\n",
    "3. [Optional] Adjust the probability threshold instead of relying on raw accuracy alone after examining the precision-recall trade-off you observe at 0.5.\n",
    "    "
   ]
  },
  {
   "cell_type": "markdown",
   "metadata": {},
   "source": [
    "### Feature Engineering\n",
    "\n",
    "Based on the considerations in **Appendix One**, we'll make the following changes to the dataset to facilitate training:\n",
    "\n",
    "\n",
    "1. Drop `fnlwgt` and `education`.   \n",
    "3. Replace `capital-gain` and `capital-loss` by their difference `capital_net` and add a log-scaled version `capital_net_log`.\n"
   ]
  },
  {
   "cell_type": "code",
   "execution_count": 4,
   "metadata": {},
   "outputs": [
    {
     "name": "stdout",
     "output_type": "stream",
     "text": [
      "<class 'pandas.core.frame.DataFrame'>\n",
      "RangeIndex: 48842 entries, 0 to 48841\n",
      "Data columns (total 13 columns):\n",
      " #   Column           Non-Null Count  Dtype   \n",
      "---  ------           --------------  -----   \n",
      " 0   age              48842 non-null  int64   \n",
      " 1   workclass        46043 non-null  category\n",
      " 2   education-num    48842 non-null  int64   \n",
      " 3   marital-status   48842 non-null  category\n",
      " 4   occupation       46033 non-null  category\n",
      " 5   relationship     48842 non-null  category\n",
      " 6   race             48842 non-null  category\n",
      " 7   sex              48842 non-null  category\n",
      " 8   hours-per-week   48842 non-null  int64   \n",
      " 9   native-country   47985 non-null  category\n",
      " 10  class            48842 non-null  category\n",
      " 11  capital_net      48842 non-null  int64   \n",
      " 12  capital_net_log  48842 non-null  float64 \n",
      "dtypes: category(8), float64(1), int64(4)\n",
      "memory usage: 2.2 MB\n"
     ]
    }
   ],
   "source": [
    "# Drop the survey-weight column\n",
    "df_eng = df.drop(columns=[\"fnlwgt\"])\n",
    "\n",
    "# Keep only the ordinal education feature\n",
    "df_eng = df_eng.drop(columns=[\"education\"])      # retain 'education-num'\n",
    "\n",
    "# Combine capital gains and losses, add a log-scaled variant\n",
    "df_eng[\"capital_net\"]     = df_eng[\"capital-gain\"] - df_eng[\"capital-loss\"]\n",
    "df_eng[\"capital_net_log\"] = np.log1p(df_eng[\"capital_net\"].clip(lower=0))\n",
    "df_eng = df_eng.drop(columns=[\"capital-gain\", \"capital-loss\"])\n",
    "\n",
    "# check\n",
    "df_eng.info()"
   ]
  },
  {
   "cell_type": "markdown",
   "metadata": {},
   "source": [
    "#### Separate target and split\n",
    "\n",
    "Create the feature set `X` and the target set `y` (using `class` as the target) and split the dataset into 80% training and 20% testing sets, making sure to stratify."
   ]
  },
  {
   "cell_type": "code",
   "execution_count": 5,
   "metadata": {},
   "outputs": [
    {
     "name": "stdout",
     "output_type": "stream",
     "text": [
      "Train: (39073, 12) (39073,)\n",
      "Test : (9769, 12) (9769,)\n"
     ]
    }
   ],
   "source": [
    "\n",
    "X = df_eng.drop(columns=[\"class\"])\n",
    "y = (df_eng[\"class\"] == \">50K\").astype(int)\n",
    "\n",
    "# Split (with stratification)\n",
    "X_train, X_test, y_train, y_test = train_test_split(\n",
    "    X, y,\n",
    "    test_size=0.2,\n",
    "    random_state=random_seed,\n",
    "    stratify=y                           # So same proportion of classes in train and test sets\n",
    ")\n",
    "\n",
    "print(\"Train:\", X_train.shape, y_train.shape)\n",
    "print(\"Test :\", X_test.shape,  y_test.shape)"
   ]
  },
  {
   "cell_type": "markdown",
   "metadata": {},
   "source": [
    "### Prelude 2: Create a data pipeline and the `HistGradientBoostingClassifier` model\n",
    "\n",
    "Histogram-based gradient boosting improves on the standard version by:\n",
    "\n",
    "* **Histogram splits:** bins each feature into ≤ `max_bins` quantiles (i.e., each bin is approximately the same size) and tests splits only between bins, slashing compute time and scaling to large data sets. Default for `max_bins` = 255. \n",
    "* **Native NaN handling:** treats missing values as their own bin—no imputation needed.\n",
    "* **Native Categorical Support**: accepts integer-encoded categories directly and tests “category c vs. all others” splits, eliminating one-hot blow-ups and fake orderings.\n",
    "* **Built-in early stopping:** stops training after no improvement in validation loss after `n_iter_no_change` rounds. `tol` defines \"improvement\" (default is 1e-7). \n",
    "* **Leaf shrinkage:** adds `l2_regularization`, which ridge-shrinks each leaf value (without changing tree shape) so tiny, noisy leaves have less effect.\n",
    "\n",
    ">**Summary:**  Histogram-based GB trades a tiny approximation error (binning) for a **huge speed-up** and adds extra conveniences, making it the preferred choice for large tabular data sets. Tuning workflow relies on **Early stopping** to stop training before overfitting occurs. "
   ]
  },
  {
   "cell_type": "code",
   "execution_count": 6,
   "metadata": {},
   "outputs": [],
   "source": [
    "# Define a baseline model \n",
    "\n",
    "HGBC_model = HistGradientBoostingClassifier(\n",
    "    # tree structure and learning rate\n",
    "    learning_rate=0.1,            # These 5 parameters are at defaults for our baseline training in Problem 1             \n",
    "    max_leaf_nodes=31,            # but will be tuned by randomized search in Problem 2 and Optuna in Problem 3               \n",
    "    max_depth=None,               \n",
    "    min_samples_leaf=20,          \n",
    "    l2_regularization=0.0,        \n",
    "\n",
    "    # bins and iteration\n",
    "    max_bins=255,                 # default\n",
    "    max_iter=500,                 # high enough for early stopping\n",
    "    early_stopping=True,\n",
    "    n_iter_no_change=20,\n",
    "    validation_fraction=0.2,      # 20% monitored for early stopping\n",
    "    tol=1e-7,                     # default tolerance for validation improvement\n",
    "\n",
    "    # class imbalance\n",
    "    class_weight=\"balanced\",\n",
    "\n",
    "    random_state=random_seed,\n",
    "    verbose=0\n",
    ")\n"
   ]
  },
  {
   "cell_type": "markdown",
   "metadata": {},
   "source": [
    "### Create a pipeline appropriate for HGBC \n",
    "\n",
    "**Why use a `Pipeline` instead of encoding in the dataset first?**\n",
    "\n",
    "* **Avoid data leakage.** In each CV fold, the `OrdinalEncoder` is refit only on that fold’s training data, so the validation split never influences the encoder.\n",
    "* **Single, reusable object.** The pipeline bundles preprocessing + model, letting you call `fit`/`predict` on raw data anywhere (CV, Optuna, production) with identical behavior.\n",
    "* **Compatible with search tools.** `cross_validate`, `GridSearchCV`, and Optuna expect an estimator that can be cloned and refit; a pipeline meets that requirement automatically.\n",
    "\n",
    "Put simply, the pipeline gives you leak-free evaluation and portable, hassle-free tuning without extra code.\n"
   ]
  },
  {
   "cell_type": "code",
   "execution_count": 7,
   "metadata": {},
   "outputs": [],
   "source": [
    "enc = OrdinalEncoder(\n",
    "    handle_unknown=\"use_encoded_value\",   # Allow unseen categories during transform\n",
    "    unknown_value=-1,                     # Code for unseen categories\n",
    "    encoded_missing_value=-2,             # Code for missing values (NaN)\n",
    "    dtype=np.int64                        # Needed for HistGradientBoostingClassifier\n",
    ")\n",
    "\n",
    "# Categorical features\n",
    "cat_cols = X.select_dtypes(exclude=[\"number\"]).columns.tolist()\n",
    "\n",
    "# Numeric features (everything that isn’t object / category)\n",
    "num_cols = X.select_dtypes(include=[\"number\"]).columns.tolist()\n",
    "\n",
    "preprocess = ColumnTransformer(\n",
    "    [(\"cat\", enc, cat_cols),\n",
    "     (\"num\", \"passthrough\", num_cols)]\n",
    ")\n",
    "\n",
    "pipelined_model = Pipeline([\n",
    "    (\"prep\", preprocess),\n",
    "    (\"gb\",   HGBC_model)\n",
    "])"
   ]
  },
  {
   "cell_type": "markdown",
   "metadata": {},
   "source": [
    "## Problem 1: Baseline Cross-Validation with F1\n",
    "\n",
    "In this problem, you will run a baseline cross-validation evaluation of your `HistGradientBoostingClassifier` pipeline, using `HGBC_model` defined above. \n",
    "\n",
    "**Background:**\n",
    "\n",
    "* Since the Adult dataset is imbalanced (about 24% positives, 76% negatives), accuracy alone is not reliable.\n",
    "* We will use the **F1 score** as the evaluation metric, since it balances precision (avoiding false positives) and recall (avoiding false negatives) in a single measure. This is a fairer metric for imbalanced classification, where both types of error matter.\n",
    "* We will apply **5-fold stratified cross-validation** to make sure each fold has the same proportion of the classes as the original dataset.\n",
    "* Repeated cross-validation is optional and not required here, because the Adult dataset is large and `HistGradientBoostingClassifier` is robust to small sampling differences. \n",
    "\n",
    "**Instructions:**\n",
    "\n",
    "1. Set up a `StratifiedKFold` cross-validation object with 5 splits, shuffling enabled, and `random_state=random_seed`.\n",
    "2. Use `cross_val_score` to estimate the mean F1 score and its standard deviation across the folds.\n",
    "3. Print out the mean and standard deviation of the F1 score, rounded to 4 decimal places.\n",
    "4. Answer the graded question.\n"
   ]
  },
  {
   "cell_type": "code",
   "execution_count": 10,
   "metadata": {},
   "outputs": [
    {
     "name": "stderr",
     "output_type": "stream",
     "text": [
      "[Parallel(n_jobs=-1)]: Using backend LokyBackend with 2 concurrent workers.\n"
     ]
    },
    {
     "name": "stdout",
     "output_type": "stream",
     "text": [
      "Mean F1 Score:  0.7123\n",
      "Standard Deviation F1 Score:  0.0035\n"
     ]
    },
    {
     "name": "stderr",
     "output_type": "stream",
     "text": [
      "[Parallel(n_jobs=-1)]: Done   5 out of   5 | elapsed:    3.2s finished\n"
     ]
    }
   ],
   "source": [
    "# Your code here\n",
    "#set up StratifiedKFold w 5 splits\n",
    "cv = StratifiedKFold(n_splits=5, shuffle=True, random_state=random_seed) \n",
    "#f1 scorer\n",
    "from sklearn.metrics import make_scorer, f1_score\n",
    "f1 = make_scorer(f1_score)\n",
    "#estimate mean F1 score + evaluate model using cross_val_score\n",
    "f1_scores = cross_val_score(pipelined_model, X_train, y_train, cv=cv, scoring=f1, verbose=1, n_jobs=-1)\n",
    "f1_mean = f1_scores.mean()\n",
    "#print mean and std of F1 score rounded to 4 decimal pts\n",
    "print(f\"Mean F1 Score: {f1_mean: .4f}\")\n",
    "print(f\"Standard Deviation F1 Score: {f1_scores.std(): .4f}\")"
   ]
  },
  {
   "cell_type": "markdown",
   "metadata": {},
   "source": [
    "### Problem 1 Graded Answer\n",
    "\n",
    "Set `a1` to the mean F1 score of the baseline model. "
   ]
  },
  {
   "cell_type": "code",
   "execution_count": 11,
   "metadata": {},
   "outputs": [],
   "source": [
    " # Your answer here\n",
    "\n",
    "a1 = f1_mean                     # replace 0 with an expression"
   ]
  },
  {
   "cell_type": "code",
   "execution_count": 12,
   "metadata": {},
   "outputs": [
    {
     "name": "stdout",
     "output_type": "stream",
     "text": [
      "a1 = 0.7123\n"
     ]
    }
   ],
   "source": [
    "# DO NOT change this cell in any way\n",
    "\n",
    "print(f'a1 = {a1:.4f}')"
   ]
  },
  {
   "cell_type": "markdown",
   "metadata": {},
   "source": [
    "## Problem 2: Hyperparameter Optimization with Randomized Search for F1\n",
    "\n",
    "In this problem, you will tune your `pipelined_model` using `RandomizedSearchCV` to identify the best combination of tree structure and learning rate parameters that maximize the **F1 score**.\n",
    "\n",
    "**Background:**\n",
    "The F1 score is our main metric because it balances precision and recall on an imbalanced dataset. Optimizing hyperparameters for F1 ensures we manage both false positives and false negatives in a single measure.\n",
    "\n",
    "**Instructions:**\n",
    "\n",
    "1. Set up a randomized search over the following hyperparameter ranges, using appropriate random-number distributions:\n",
    "\n",
    "   * `learning_rate` (log-uniform between 1e-3 and 0.3)\n",
    "   * `max_leaf_nodes` (integer from 16 to 256)\n",
    "   * `max_depth` (integer from 2 to 10)\n",
    "   * `min_samples_leaf` (integer from 10 to 200)\n",
    "   * `l2_regularization` (uniform between 0.0 and 2.0)\n",
    "2. Use **5-fold stratified cross-validation**, with the same settings as in Problem 1.\n",
    "3. Set `n_iter` to at least 100 trials. More trials will generally yield better results, if your time and machine allow.\n",
    "4. After running the search, show a neatly formatted table of the top 5 results, using `display(...)` showing their mean F1 scores, standard deviation, and the chosen hyperparameter values.\n",
    "5. Answer the graded question.\n",
    "\n",
    "\n"
   ]
  },
  {
   "cell_type": "code",
   "execution_count": 13,
   "metadata": {},
   "outputs": [
    {
     "name": "stdout",
     "output_type": "stream",
     "text": [
      "Fitting 5 folds for each of 100 candidates, totalling 500 fits\n"
     ]
    },
    {
     "data": {
      "text/html": [
       "<div>\n",
       "<style scoped>\n",
       "    .dataframe tbody tr th:only-of-type {\n",
       "        vertical-align: middle;\n",
       "    }\n",
       "\n",
       "    .dataframe tbody tr th {\n",
       "        vertical-align: top;\n",
       "    }\n",
       "\n",
       "    .dataframe thead th {\n",
       "        text-align: right;\n",
       "    }\n",
       "</style>\n",
       "<table border=\"1\" class=\"dataframe\">\n",
       "  <thead>\n",
       "    <tr style=\"text-align: right;\">\n",
       "      <th></th>\n",
       "      <th>mean_test_score</th>\n",
       "      <th>std_test_score</th>\n",
       "      <th>param_gb__learning_rate</th>\n",
       "      <th>param_gb__max_leaf_nodes</th>\n",
       "      <th>param_gb__max_depth</th>\n",
       "      <th>param_gb__min_samples_leaf</th>\n",
       "      <th>param_gb__l2_regularization</th>\n",
       "    </tr>\n",
       "  </thead>\n",
       "  <tbody>\n",
       "    <tr>\n",
       "      <th>19</th>\n",
       "      <td>0.712000</td>\n",
       "      <td>0.003063</td>\n",
       "      <td>0.127541</td>\n",
       "      <td>48</td>\n",
       "      <td>3</td>\n",
       "      <td>57</td>\n",
       "      <td>1.829919</td>\n",
       "    </tr>\n",
       "    <tr>\n",
       "      <th>60</th>\n",
       "      <td>0.711962</td>\n",
       "      <td>0.004237</td>\n",
       "      <td>0.268164</td>\n",
       "      <td>206</td>\n",
       "      <td>5</td>\n",
       "      <td>169</td>\n",
       "      <td>1.144585</td>\n",
       "    </tr>\n",
       "    <tr>\n",
       "      <th>21</th>\n",
       "      <td>0.711405</td>\n",
       "      <td>0.003213</td>\n",
       "      <td>0.157664</td>\n",
       "      <td>242</td>\n",
       "      <td>2</td>\n",
       "      <td>110</td>\n",
       "      <td>1.275115</td>\n",
       "    </tr>\n",
       "    <tr>\n",
       "      <th>59</th>\n",
       "      <td>0.711045</td>\n",
       "      <td>0.003477</td>\n",
       "      <td>0.229549</td>\n",
       "      <td>61</td>\n",
       "      <td>2</td>\n",
       "      <td>190</td>\n",
       "      <td>1.495438</td>\n",
       "    </tr>\n",
       "    <tr>\n",
       "      <th>14</th>\n",
       "      <td>0.711026</td>\n",
       "      <td>0.002790</td>\n",
       "      <td>0.070991</td>\n",
       "      <td>39</td>\n",
       "      <td>6</td>\n",
       "      <td>163</td>\n",
       "      <td>1.689068</td>\n",
       "    </tr>\n",
       "  </tbody>\n",
       "</table>\n",
       "</div>"
      ],
      "text/plain": [
       "    mean_test_score  std_test_score  param_gb__learning_rate  \\\n",
       "19         0.712000        0.003063                 0.127541   \n",
       "60         0.711962        0.004237                 0.268164   \n",
       "21         0.711405        0.003213                 0.157664   \n",
       "59         0.711045        0.003477                 0.229549   \n",
       "14         0.711026        0.002790                 0.070991   \n",
       "\n",
       "    param_gb__max_leaf_nodes  param_gb__max_depth  param_gb__min_samples_leaf  \\\n",
       "19                        48                    3                          57   \n",
       "60                       206                    5                         169   \n",
       "21                       242                    2                         110   \n",
       "59                        61                    2                         190   \n",
       "14                        39                    6                         163   \n",
       "\n",
       "    param_gb__l2_regularization  \n",
       "19                     1.829919  \n",
       "60                     1.144585  \n",
       "21                     1.275115  \n",
       "59                     1.495438  \n",
       "14                     1.689068  "
      ]
     },
     "metadata": {},
     "output_type": "display_data"
    }
   ],
   "source": [
    "# Your code here\n",
    "#set up distributions for randomized search\n",
    "dist = {\n",
    "    \"gb__learning_rate\":     loguniform(1e-3, 0.3),\n",
    "    \"gb__max_leaf_nodes\":    randint(16, 257),\n",
    "    \"gb__max_depth\":         randint(2, 11),\n",
    "    \"gb__min_samples_leaf\":  randint(10, 201),\n",
    "    \"gb__l2_regularization\": uniform(0.0, 2.0)\n",
    "}\n",
    "#set up cv (same as in p1)\n",
    "cv = StratifiedKFold(n_splits=5, shuffle=True, random_state=random_seed) \n",
    "#f1 scorer\n",
    "f1_scorer = make_scorer(f1_score)\n",
    "#run randomized search with n_iter = 100\n",
    "rsearch = RandomizedSearchCV(estimator=pipelined_model, param_distributions=dist, n_iter=100, scoring=f1_scorer, cv=cv, random_state=random_seed, verbose=1, n_jobs=-1)\n",
    "rsearch.fit(X_train, y_train)\n",
    "#display top 5 results \n",
    "results_df = pd.DataFrame(rsearch.cv_results_)\n",
    "top5 = results_df.sort_values(by=\"mean_test_score\", ascending=False).head(5)\n",
    "display(top5[[\n",
    "    \"mean_test_score\", \"std_test_score\", \n",
    "    \"param_gb__learning_rate\", \n",
    "    \"param_gb__max_leaf_nodes\",\n",
    "    \"param_gb__max_depth\", \n",
    "    \"param_gb__min_samples_leaf\", \n",
    "    \"param_gb__l2_regularization\"\n",
    "]])"
   ]
  },
  {
   "cell_type": "code",
   "execution_count": 14,
   "metadata": {},
   "outputs": [
    {
     "name": "stdout",
     "output_type": "stream",
     "text": [
      "Best F1 Score: 0.7120\n"
     ]
    }
   ],
   "source": [
    "best_f1 = rsearch.best_score_\n",
    "print(f\"Best F1 Score: {best_f1:.4f}\")"
   ]
  },
  {
   "cell_type": "markdown",
   "metadata": {},
   "source": [
    "### Problem 2 Graded Answer\n",
    "\n",
    "Set `a2` to the mean F1 score of the best model found. "
   ]
  },
  {
   "cell_type": "code",
   "execution_count": 15,
   "metadata": {},
   "outputs": [],
   "source": [
    " # Your answer here\n",
    "\n",
    "a2 = best_f1                     # replace 0 with your answer, may copy from the displayed results"
   ]
  },
  {
   "cell_type": "code",
   "execution_count": 16,
   "metadata": {},
   "outputs": [
    {
     "name": "stdout",
     "output_type": "stream",
     "text": [
      "a2 = 0.7120\n"
     ]
    }
   ],
   "source": [
    "# DO NOT change this cell in any way\n",
    "\n",
    "print(f'a2 = {a2:.4f}')"
   ]
  },
  {
   "cell_type": "markdown",
   "metadata": {},
   "source": [
    "## Problem 3: Hyperparameter Optimization with Optuna for F1\n",
    "\n",
    "In this problem, you will explore **Optuna**, a powerful hyperparameter optimization framework, to identify the best combination of hyperparameters that maximize the F1 score of your `pipelined_model`.\n",
    "\n",
    "**Background:**\n",
    "Optuna uses a smarter sampling strategy than grid search or randomized search, allowing you to explore the hyperparameter space more efficiently. It also supports *pruning*, which can stop unpromising trials early to save time. This makes it a popular SOTA optimization tool.\n",
    "\n",
    "**Before you start** browse the [Optuna documentation](https://optuna.org) and view the [tutorial video](https://optuna.readthedocs.io/en/stable/tutorial/index.html). \n",
    "\n",
    "As before, we focus on the **F1 score** because it balances precision and recall, making it more robust on an imbalanced dataset.\n",
    "\n",
    "**Instructions:**\n",
    "\n",
    "1. Define an Optuna objective function to optimize F1 score, sampling the exact same hyperparameter ranges you did in Problem 2 and using the same CV settings.  \n",
    "3. Set up an Optuna study with a reasonable number of trials (e.g., 100–500 depending on runtime resources--on my machine Optuna runs about 10x faster than randomized search for the same number of trials, but YMMV).\n",
    "4. After running the optimization, `display` a clean table with the top 5 trials showing their F1 scores and corresponding hyperparameter settings.\n",
    "5. Answer the graded question. \n",
    "\n",
    "**Note:**  There are many resources on Optuna you can find on the web, but for this problem, you have my permission to let ChatGPT write the code for you. "
   ]
  },
  {
   "cell_type": "code",
   "execution_count": 26,
   "metadata": {},
   "outputs": [
    {
     "name": "stderr",
     "output_type": "stream",
     "text": [
      "[I 2025-07-09 02:09:23,154] A new study created in memory with name: no-name-48d137e7-430b-4cb1-8c4d-9bae99b6300f\n"
     ]
    },
    {
     "name": "stderr",
     "output_type": "stream",
     "text": [
      "[I 2025-07-09 02:09:28,089] Trial 0 finished with value: 0.7101306866681447 and parameters: {'gb__learning_rate': 0.09476781536559434, 'gb__max_leaf_nodes': 108, 'gb__max_depth': 10, 'gb__min_samples_leaf': 179, 'gb__l2_regularization': 0.6780542851441596}. Best is trial 0 with value: 0.7101306866681447.\n",
      "[I 2025-07-09 02:09:41,604] Trial 1 finished with value: 0.7101542961042384 and parameters: {'gb__learning_rate': 0.022357522394587125, 'gb__max_leaf_nodes': 116, 'gb__max_depth': 10, 'gb__min_samples_leaf': 109, 'gb__l2_regularization': 0.9662966252902159}. Best is trial 1 with value: 0.7101542961042384.\n",
      "[I 2025-07-09 02:09:47,334] Trial 2 finished with value: 0.6459930331742051 and parameters: {'gb__learning_rate': 0.004709558541063981, 'gb__max_leaf_nodes': 55, 'gb__max_depth': 2, 'gb__min_samples_leaf': 111, 'gb__l2_regularization': 1.171901296245138}. Best is trial 1 with value: 0.7101542961042384.\n",
      "[I 2025-07-09 02:09:55,534] Trial 3 finished with value: 0.7106401405743247 and parameters: {'gb__learning_rate': 0.05124917314888158, 'gb__max_leaf_nodes': 66, 'gb__max_depth': 10, 'gb__min_samples_leaf': 181, 'gb__l2_regularization': 1.7739532239136186}. Best is trial 3 with value: 0.7106401405743247.\n",
      "[I 2025-07-09 02:10:02,214] Trial 4 finished with value: 0.6927481174776491 and parameters: {'gb__learning_rate': 0.022370951851399444, 'gb__max_leaf_nodes': 74, 'gb__max_depth': 3, 'gb__min_samples_leaf': 123, 'gb__l2_regularization': 0.7123208527641669}. Best is trial 3 with value: 0.7106401405743247.\n",
      "[I 2025-07-09 02:10:08,920] Trial 5 finished with value: 0.6841508282329553 and parameters: {'gb__learning_rate': 0.012815230975161162, 'gb__max_leaf_nodes': 158, 'gb__max_depth': 3, 'gb__min_samples_leaf': 16, 'gb__l2_regularization': 1.9340095126151733}. Best is trial 3 with value: 0.7106401405743247.\n",
      "[I 2025-07-09 02:10:13,720] Trial 6 finished with value: 0.7117100653885012 and parameters: {'gb__learning_rate': 0.12656845968360264, 'gb__max_leaf_nodes': 159, 'gb__max_depth': 3, 'gb__min_samples_leaf': 29, 'gb__l2_regularization': 0.4353896691533199}. Best is trial 6 with value: 0.7117100653885012.\n",
      "[I 2025-07-09 02:10:22,121] Trial 7 finished with value: 0.6611704637624086 and parameters: {'gb__learning_rate': 0.003053653950361491, 'gb__max_leaf_nodes': 201, 'gb__max_depth': 4, 'gb__min_samples_leaf': 18, 'gb__l2_regularization': 0.773161501171}. Best is trial 6 with value: 0.7117100653885012.\n",
      "[I 2025-07-09 02:10:24,208] Trial 8 finished with value: 0.7094811624188166 and parameters: {'gb__learning_rate': 0.2084072590115548, 'gb__max_leaf_nodes': 61, 'gb__max_depth': 10, 'gb__min_samples_leaf': 37, 'gb__l2_regularization': 1.4769942998228334}. Best is trial 6 with value: 0.7117100653885012.\n",
      "[I 2025-07-09 02:10:32,171] Trial 9 finished with value: 0.6885957054781905 and parameters: {'gb__learning_rate': 0.012376142652275064, 'gb__max_leaf_nodes': 208, 'gb__max_depth': 4, 'gb__min_samples_leaf': 126, 'gb__l2_regularization': 0.8505681408193777}. Best is trial 6 with value: 0.7117100653885012.\n",
      "[I 2025-07-09 02:10:46,280] Trial 10 finished with value: 0.6712220033964955 and parameters: {'gb__learning_rate': 0.0011178937788907995, 'gb__max_leaf_nodes': 246, 'gb__max_depth': 7, 'gb__min_samples_leaf': 67, 'gb__l2_regularization': 0.022541792555280105}. Best is trial 6 with value: 0.7117100653885012.\n",
      "[I 2025-07-09 02:10:52,679] Trial 11 finished with value: 0.7094027242440881 and parameters: {'gb__learning_rate': 0.07860602559884126, 'gb__max_leaf_nodes': 164, 'gb__max_depth': 7, 'gb__min_samples_leaf': 200, 'gb__l2_regularization': 0.21489296639068708}. Best is trial 6 with value: 0.7117100653885012.\n",
      "[I 2025-07-09 02:11:00,173] Trial 12 finished with value: 0.7103367875030944 and parameters: {'gb__learning_rate': 0.06350393479253146, 'gb__max_leaf_nodes': 19, 'gb__max_depth': 6, 'gb__min_samples_leaf': 157, 'gb__l2_regularization': 1.953900864559955}. Best is trial 6 with value: 0.7117100653885012.\n",
      "[I 2025-07-09 02:11:02,277] Trial 13 finished with value: 0.7114689406496258 and parameters: {'gb__learning_rate': 0.2800660869579942, 'gb__max_leaf_nodes': 130, 'gb__max_depth': 8, 'gb__min_samples_leaf': 60, 'gb__l2_regularization': 0.3580244549994027}. Best is trial 6 with value: 0.7117100653885012.\n",
      "[I 2025-07-09 02:11:04,399] Trial 14 finished with value: 0.7081080510038251 and parameters: {'gb__learning_rate': 0.24788687319453445, 'gb__max_leaf_nodes': 130, 'gb__max_depth': 8, 'gb__min_samples_leaf': 66, 'gb__l2_regularization': 0.34886696360105507}. Best is trial 6 with value: 0.7117100653885012.\n",
      "[I 2025-07-09 02:11:06,531] Trial 15 finished with value: 0.7097714197439824 and parameters: {'gb__learning_rate': 0.2861984129969248, 'gb__max_leaf_nodes': 179, 'gb__max_depth': 5, 'gb__min_samples_leaf': 70, 'gb__l2_regularization': 0.4826372337348406}. Best is trial 6 with value: 0.7117100653885012.\n",
      "[I 2025-07-09 02:11:09,371] Trial 16 finished with value: 0.7104266123121739 and parameters: {'gb__learning_rate': 0.13956445662289527, 'gb__max_leaf_nodes': 142, 'gb__max_depth': 7, 'gb__min_samples_leaf': 47, 'gb__l2_regularization': 0.03289885947567561}. Best is trial 6 with value: 0.7117100653885012.\n",
      "[I 2025-07-09 02:11:19,029] Trial 17 finished with value: 0.710389632436883 and parameters: {'gb__learning_rate': 0.04506295422949314, 'gb__max_leaf_nodes': 99, 'gb__max_depth': 8, 'gb__min_samples_leaf': 88, 'gb__l2_regularization': 0.446189033550106}. Best is trial 6 with value: 0.7117100653885012.\n",
      "[I 2025-07-09 02:11:24,729] Trial 18 finished with value: 0.7105029594559882 and parameters: {'gb__learning_rate': 0.12047071013176447, 'gb__max_leaf_nodes': 253, 'gb__max_depth': 2, 'gb__min_samples_leaf': 44, 'gb__l2_regularization': 1.219771496235819}. Best is trial 6 with value: 0.7117100653885012.\n",
      "[I 2025-07-09 02:11:32,949] Trial 19 finished with value: 0.7100763149112356 and parameters: {'gb__learning_rate': 0.032867424150304365, 'gb__max_leaf_nodes': 193, 'gb__max_depth': 5, 'gb__min_samples_leaf': 30, 'gb__l2_regularization': 0.24913847783807608}. Best is trial 6 with value: 0.7117100653885012.\n",
      "[I 2025-07-09 02:11:35,851] Trial 20 finished with value: 0.7094237971822152 and parameters: {'gb__learning_rate': 0.16041691056932444, 'gb__max_leaf_nodes': 215, 'gb__max_depth': 8, 'gb__min_samples_leaf': 80, 'gb__l2_regularization': 0.5369764864515527}. Best is trial 6 with value: 0.7117100653885012.\n",
      "[I 2025-07-09 02:11:42,461] Trial 21 finished with value: 0.709427817459717 and parameters: {'gb__learning_rate': 0.057248117189088205, 'gb__max_leaf_nodes': 93, 'gb__max_depth': 9, 'gb__min_samples_leaf': 139, 'gb__l2_regularization': 1.632595695842614}. Best is trial 6 with value: 0.7117100653885012.\n",
      "[I 2025-07-09 02:11:46,479] Trial 22 finished with value: 0.7112177197206722 and parameters: {'gb__learning_rate': 0.10970461174721367, 'gb__max_leaf_nodes': 18, 'gb__max_depth': 9, 'gb__min_samples_leaf': 55, 'gb__l2_regularization': 1.4664997208287451}. Best is trial 6 with value: 0.7117100653885012.\n",
      "[I 2025-07-09 02:11:49,233] Trial 23 finished with value: 0.7104603080292882 and parameters: {'gb__learning_rate': 0.14866471455172256, 'gb__max_leaf_nodes': 20, 'gb__max_depth': 9, 'gb__min_samples_leaf': 47, 'gb__l2_regularization': 1.377996291051144}. Best is trial 6 with value: 0.7117100653885012.\n",
      "[I 2025-07-09 02:11:51,395] Trial 24 finished with value: 0.7099581988963977 and parameters: {'gb__learning_rate': 0.28067256635705284, 'gb__max_leaf_nodes': 142, 'gb__max_depth': 9, 'gb__min_samples_leaf': 94, 'gb__l2_regularization': 1.0728706937988643}. Best is trial 6 with value: 0.7117100653885012.\n",
      "[I 2025-07-09 02:11:55,576] Trial 25 finished with value: 0.7110542080151959 and parameters: {'gb__learning_rate': 0.10217593933896238, 'gb__max_leaf_nodes': 41, 'gb__max_depth': 6, 'gb__min_samples_leaf': 53, 'gb__l2_regularization': 1.346729268840979}. Best is trial 6 with value: 0.7117100653885012.\n",
      "[I 2025-07-09 02:11:57,810] Trial 26 finished with value: 0.7091380344767048 and parameters: {'gb__learning_rate': 0.19002272440792795, 'gb__max_leaf_nodes': 228, 'gb__max_depth': 8, 'gb__min_samples_leaf': 27, 'gb__l2_regularization': 0.18975407025256205}. Best is trial 6 with value: 0.7117100653885012.\n",
      "[I 2025-07-09 02:12:01,801] Trial 27 finished with value: 0.7106417828397096 and parameters: {'gb__learning_rate': 0.09054276680743643, 'gb__max_leaf_nodes': 175, 'gb__max_depth': 9, 'gb__min_samples_leaf': 12, 'gb__l2_regularization': 0.5552187815086759}. Best is trial 6 with value: 0.7117100653885012.\n",
      "[I 2025-07-09 02:12:10,214] Trial 28 finished with value: 0.7087616988115324 and parameters: {'gb__learning_rate': 0.03836836121521279, 'gb__max_leaf_nodes': 125, 'gb__max_depth': 5, 'gb__min_samples_leaf': 57, 'gb__l2_regularization': 1.6891008728873222}. Best is trial 6 with value: 0.7117100653885012.\n",
      "[I 2025-07-09 02:12:15,118] Trial 29 finished with value: 0.7097491480073745 and parameters: {'gb__learning_rate': 0.09650025288938671, 'gb__max_leaf_nodes': 84, 'gb__max_depth': 7, 'gb__min_samples_leaf': 78, 'gb__l2_regularization': 0.8739021320290064}. Best is trial 6 with value: 0.7117100653885012.\n",
      "[I 2025-07-09 02:12:19,013] Trial 30 finished with value: 0.711600409261521 and parameters: {'gb__learning_rate': 0.19339851086287116, 'gb__max_leaf_nodes': 41, 'gb__max_depth': 3, 'gb__min_samples_leaf': 32, 'gb__l2_regularization': 0.6225778440799101}. Best is trial 6 with value: 0.7117100653885012.\n",
      "[I 2025-07-09 02:12:22,099] Trial 31 finished with value: 0.71006796840361 and parameters: {'gb__learning_rate': 0.1891625415735222, 'gb__max_leaf_nodes': 39, 'gb__max_depth': 3, 'gb__min_samples_leaf': 26, 'gb__l2_regularization': 0.6266397691793237}. Best is trial 6 with value: 0.7117100653885012.\n",
      "[I 2025-07-09 02:12:24,907] Trial 32 finished with value: 0.7109550839235317 and parameters: {'gb__learning_rate': 0.2934088374589581, 'gb__max_leaf_nodes': 40, 'gb__max_depth': 4, 'gb__min_samples_leaf': 59, 'gb__l2_regularization': 0.36008092304734735}. Best is trial 6 with value: 0.7117100653885012.\n",
      "[I 2025-07-09 02:12:30,344] Trial 33 finished with value: 0.7114060093405121 and parameters: {'gb__learning_rate': 0.12828077883625885, 'gb__max_leaf_nodes': 111, 'gb__max_depth': 2, 'gb__min_samples_leaf': 36, 'gb__l2_regularization': 0.9914590029028942}. Best is trial 6 with value: 0.7117100653885012.\n",
      "[I 2025-07-09 02:12:36,049] Trial 34 finished with value: 0.7070824390038866 and parameters: {'gb__learning_rate': 0.07280632017847895, 'gb__max_leaf_nodes': 110, 'gb__max_depth': 2, 'gb__min_samples_leaf': 36, 'gb__l2_regularization': 1.0197470670914344}. Best is trial 6 with value: 0.7117100653885012.\n",
      "[I 2025-07-09 02:12:41,876] Trial 35 finished with value: 0.6619109532489599 and parameters: {'gb__learning_rate': 0.007408763663200847, 'gb__max_leaf_nodes': 149, 'gb__max_depth': 2, 'gb__min_samples_leaf': 37, 'gb__l2_regularization': 0.6181505873858165}. Best is trial 6 with value: 0.7117100653885012.\n",
      "[I 2025-07-09 02:12:48,505] Trial 36 finished with value: 0.6995168368016661 and parameters: {'gb__learning_rate': 0.027325197484449965, 'gb__max_leaf_nodes': 121, 'gb__max_depth': 3, 'gb__min_samples_leaf': 10, 'gb__l2_regularization': 0.7352054082109671}. Best is trial 6 with value: 0.7117100653885012.\n",
      "[I 2025-07-09 02:12:51,669] Trial 37 finished with value: 0.7104524421200651 and parameters: {'gb__learning_rate': 0.1957147159751654, 'gb__max_leaf_nodes': 105, 'gb__max_depth': 3, 'gb__min_samples_leaf': 24, 'gb__l2_regularization': 0.38241772402498364}. Best is trial 6 with value: 0.7117100653885012.\n",
      "[I 2025-07-09 02:12:56,974] Trial 38 finished with value: 0.7120275369452005 and parameters: {'gb__learning_rate': 0.14489739081758152, 'gb__max_leaf_nodes': 77, 'gb__max_depth': 2, 'gb__min_samples_leaf': 40, 'gb__l2_regularization': 0.8300730016257237}. Best is trial 38 with value: 0.7120275369452005.\n",
      "[I 2025-07-09 02:13:04,640] Trial 39 finished with value: 0.6954329680357387 and parameters: {'gb__learning_rate': 0.015835989131461826, 'gb__max_leaf_nodes': 76, 'gb__max_depth': 4, 'gb__min_samples_leaf': 107, 'gb__l2_regularization': 0.8345569052214046}. Best is trial 38 with value: 0.7120275369452005.\n",
      "[I 2025-07-09 02:13:11,551] Trial 40 finished with value: 0.6505381577437713 and parameters: {'gb__learning_rate': 0.002780948869978796, 'gb__max_leaf_nodes': 54, 'gb__max_depth': 3, 'gb__min_samples_leaf': 21, 'gb__l2_regularization': 0.13514127873855253}. Best is trial 38 with value: 0.7120275369452005.\n",
      "[I 2025-07-09 02:13:17,168] Trial 41 finished with value: 0.7119243233360358 and parameters: {'gb__learning_rate': 0.13132845908980698, 'gb__max_leaf_nodes': 87, 'gb__max_depth': 2, 'gb__min_samples_leaf': 35, 'gb__l2_regularization': 0.9475054869191211}. Best is trial 38 with value: 0.7120275369452005.\n",
      "[I 2025-07-09 02:13:22,552] Trial 42 finished with value: 0.7128079062977355 and parameters: {'gb__learning_rate': 0.15827621783752258, 'gb__max_leaf_nodes': 86, 'gb__max_depth': 2, 'gb__min_samples_leaf': 33, 'gb__l2_regularization': 0.6664637033809884}. Best is trial 42 with value: 0.7128079062977355.\n",
      "[I 2025-07-09 02:13:28,319] Trial 43 finished with value: 0.7069297664869124 and parameters: {'gb__learning_rate': 0.07239798450408745, 'gb__max_leaf_nodes': 89, 'gb__max_depth': 2, 'gb__min_samples_leaf': 42, 'gb__l2_regularization': 0.6912440063117903}. Best is trial 42 with value: 0.7128079062977355.\n",
      "[I 2025-07-09 02:13:33,562] Trial 44 finished with value: 0.7127478133199188 and parameters: {'gb__learning_rate': 0.1682629338348928, 'gb__max_leaf_nodes': 67, 'gb__max_depth': 2, 'gb__min_samples_leaf': 17, 'gb__l2_regularization': 1.131827626849526}. Best is trial 42 with value: 0.7128079062977355.\n",
      "[I 2025-07-09 02:13:39,337] Trial 45 finished with value: 0.7037301439155115 and parameters: {'gb__learning_rate': 0.052806261466500956, 'gb__max_leaf_nodes': 70, 'gb__max_depth': 2, 'gb__min_samples_leaf': 14, 'gb__l2_regularization': 0.9208334279215437}. Best is trial 42 with value: 0.7128079062977355.\n",
      "[I 2025-07-09 02:13:44,268] Trial 46 finished with value: 0.7137280872949374 and parameters: {'gb__learning_rate': 0.1613819942182987, 'gb__max_leaf_nodes': 58, 'gb__max_depth': 2, 'gb__min_samples_leaf': 21, 'gb__l2_regularization': 1.182016080811335}. Best is trial 46 with value: 0.7137280872949374.\n",
      "[I 2025-07-09 02:13:49,855] Trial 47 finished with value: 0.712957183379632 and parameters: {'gb__learning_rate': 0.15289239124484966, 'gb__max_leaf_nodes': 59, 'gb__max_depth': 2, 'gb__min_samples_leaf': 16, 'gb__l2_regularization': 1.1209808353861621}. Best is trial 46 with value: 0.7137280872949374.\n",
      "[I 2025-07-09 02:13:53,711] Trial 48 finished with value: 0.712379729530317 and parameters: {'gb__learning_rate': 0.16742974455117482, 'gb__max_leaf_nodes': 54, 'gb__max_depth': 3, 'gb__min_samples_leaf': 20, 'gb__l2_regularization': 1.147313633955719}. Best is trial 46 with value: 0.7137280872949374.\n",
      "[I 2025-07-09 02:13:55,895] Trial 49 finished with value: 0.7110170384873472 and parameters: {'gb__learning_rate': 0.22893904161428066, 'gb__max_leaf_nodes': 58, 'gb__max_depth': 4, 'gb__min_samples_leaf': 19, 'gb__l2_regularization': 1.162042946299958}. Best is trial 46 with value: 0.7137280872949374.\n",
      "[I 2025-07-09 02:14:02,012] Trial 50 finished with value: 0.7120671477634477 and parameters: {'gb__learning_rate': 0.09118309674782384, 'gb__max_leaf_nodes': 54, 'gb__max_depth': 3, 'gb__min_samples_leaf': 19, 'gb__l2_regularization': 1.2430597205317526}. Best is trial 46 with value: 0.7137280872949374.\n",
      "[I 2025-07-09 02:14:08,186] Trial 51 finished with value: 0.7127464430416702 and parameters: {'gb__learning_rate': 0.08863565863582461, 'gb__max_leaf_nodes': 51, 'gb__max_depth': 3, 'gb__min_samples_leaf': 20, 'gb__l2_regularization': 1.1675543907889432}. Best is trial 46 with value: 0.7137280872949374.\n",
      "[I 2025-07-09 02:14:12,134] Trial 52 finished with value: 0.7133198497814994 and parameters: {'gb__learning_rate': 0.16362636108108988, 'gb__max_leaf_nodes': 30, 'gb__max_depth': 3, 'gb__min_samples_leaf': 13, 'gb__l2_regularization': 1.1128022165714115}. Best is trial 46 with value: 0.7137280872949374.\n",
      "[I 2025-07-09 02:14:16,195] Trial 53 finished with value: 0.7112440552794416 and parameters: {'gb__learning_rate': 0.22794289405643003, 'gb__max_leaf_nodes': 32, 'gb__max_depth': 2, 'gb__min_samples_leaf': 10, 'gb__l2_regularization': 1.08732240754339}. Best is trial 46 with value: 0.7137280872949374.\n",
      "[I 2025-07-09 02:14:21,877] Trial 54 finished with value: 0.7117937424083232 and parameters: {'gb__learning_rate': 0.1154428256604393, 'gb__max_leaf_nodes': 29, 'gb__max_depth': 2, 'gb__min_samples_leaf': 27, 'gb__l2_regularization': 1.3015040615973363}. Best is trial 46 with value: 0.7137280872949374.\n",
      "[I 2025-07-09 02:14:28,593] Trial 55 finished with value: 0.7103003731596684 and parameters: {'gb__learning_rate': 0.08173487289766741, 'gb__max_leaf_nodes': 66, 'gb__max_depth': 4, 'gb__min_samples_leaf': 118, 'gb__l2_regularization': 1.0897606095945969}. Best is trial 46 with value: 0.7137280872949374.\n",
      "[I 2025-07-09 02:14:32,391] Trial 56 finished with value: 0.7114649524444192 and parameters: {'gb__learning_rate': 0.16924043989004436, 'gb__max_leaf_nodes': 64, 'gb__max_depth': 3, 'gb__min_samples_leaf': 17, 'gb__l2_regularization': 1.2611954791061155}. Best is trial 46 with value: 0.7137280872949374.\n",
      "[I 2025-07-09 02:14:38,074] Trial 57 finished with value: 0.6979262573040607 and parameters: {'gb__learning_rate': 0.043764108330793194, 'gb__max_leaf_nodes': 47, 'gb__max_depth': 2, 'gb__min_samples_leaf': 157, 'gb__l2_regularization': 1.425040539117527}. Best is trial 46 with value: 0.7137280872949374.\n",
      "[I 2025-07-09 02:14:42,903] Trial 58 finished with value: 0.7112986815289523 and parameters: {'gb__learning_rate': 0.2412663899431493, 'gb__max_leaf_nodes': 28, 'gb__max_depth': 2, 'gb__min_samples_leaf': 50, 'gb__l2_regularization': 1.54096893705063}. Best is trial 46 with value: 0.7137280872949374.\n",
      "[I 2025-07-09 02:14:49,931] Trial 59 finished with value: 0.6086208549635251 and parameters: {'gb__learning_rate': 0.0010571959594386547, 'gb__max_leaf_nodes': 79, 'gb__max_depth': 3, 'gb__min_samples_leaf': 29, 'gb__l2_regularization': 1.1893941244024449}. Best is trial 46 with value: 0.7137280872949374.\n",
      "[I 2025-07-09 02:14:56,326] Trial 60 finished with value: 0.7110420392496459 and parameters: {'gb__learning_rate': 0.061889440352624225, 'gb__max_leaf_nodes': 98, 'gb__max_depth': 3, 'gb__min_samples_leaf': 10, 'gb__l2_regularization': 1.0463479978412267}. Best is trial 46 with value: 0.7137280872949374.\n",
      "[I 2025-07-09 02:15:00,278] Trial 61 finished with value: 0.7117407347531753 and parameters: {'gb__learning_rate': 0.1647554760107792, 'gb__max_leaf_nodes': 49, 'gb__max_depth': 3, 'gb__min_samples_leaf': 19, 'gb__l2_regularization': 1.1378599322778988}. Best is trial 46 with value: 0.7137280872949374.\n",
      "[I 2025-07-09 02:15:05,893] Trial 62 finished with value: 0.711525147993092 and parameters: {'gb__learning_rate': 0.11021738891719551, 'gb__max_leaf_nodes': 60, 'gb__max_depth': 2, 'gb__min_samples_leaf': 23, 'gb__l2_regularization': 1.308777257784431}. Best is trial 46 with value: 0.7137280872949374.\n",
      "[I 2025-07-09 02:15:09,267] Trial 63 finished with value: 0.7126686018972042 and parameters: {'gb__learning_rate': 0.15988384810698905, 'gb__max_leaf_nodes': 49, 'gb__max_depth': 4, 'gb__min_samples_leaf': 17, 'gb__l2_regularization': 1.1239885627463542}. Best is trial 46 with value: 0.7137280872949374.\n",
      "[I 2025-07-09 02:15:12,774] Trial 64 finished with value: 0.7116638008728764 and parameters: {'gb__learning_rate': 0.1445995506653884, 'gb__max_leaf_nodes': 71, 'gb__max_depth': 4, 'gb__min_samples_leaf': 30, 'gb__l2_regularization': 0.9604188345803947}. Best is trial 46 with value: 0.7137280872949374.\n",
      "[I 2025-07-09 02:15:14,790] Trial 65 finished with value: 0.7119639773560563 and parameters: {'gb__learning_rate': 0.22789181060107236, 'gb__max_leaf_nodes': 24, 'gb__max_depth': 5, 'gb__min_samples_leaf': 15, 'gb__l2_regularization': 1.3994587971650936}. Best is trial 46 with value: 0.7137280872949374.\n",
      "[I 2025-07-09 02:15:20,646] Trial 66 finished with value: 0.7112589767297304 and parameters: {'gb__learning_rate': 0.12312806335377938, 'gb__max_leaf_nodes': 34, 'gb__max_depth': 2, 'gb__min_samples_leaf': 44, 'gb__l2_regularization': 1.2121805711328635}. Best is trial 46 with value: 0.7137280872949374.\n",
      "[I 2025-07-09 02:15:24,785] Trial 67 finished with value: 0.7122067130201629 and parameters: {'gb__learning_rate': 0.1847526925391887, 'gb__max_leaf_nodes': 62, 'gb__max_depth': 4, 'gb__min_samples_leaf': 196, 'gb__l2_regularization': 0.8989174652108485}. Best is trial 46 with value: 0.7137280872949374.\n",
      "[I 2025-07-09 02:15:30,913] Trial 68 finished with value: 0.711563101534896 and parameters: {'gb__learning_rate': 0.08731458980815067, 'gb__max_leaf_nodes': 50, 'gb__max_depth': 3, 'gb__min_samples_leaf': 25, 'gb__l2_regularization': 1.1235195901627486}. Best is trial 46 with value: 0.7137280872949374.\n",
      "[I 2025-07-09 02:15:35,427] Trial 69 finished with value: 0.7106336179194924 and parameters: {'gb__learning_rate': 0.2963337165376235, 'gb__max_leaf_nodes': 46, 'gb__max_depth': 2, 'gb__min_samples_leaf': 99, 'gb__l2_regularization': 1.3069198445541585}. Best is trial 46 with value: 0.7137280872949374.\n",
      "[I 2025-07-09 02:15:41,269] Trial 70 finished with value: 0.7118309164619159 and parameters: {'gb__learning_rate': 0.10605905499397737, 'gb__max_leaf_nodes': 16, 'gb__max_depth': 3, 'gb__min_samples_leaf': 34, 'gb__l2_regularization': 1.00561047395795}. Best is trial 46 with value: 0.7137280872949374.\n",
      "[I 2025-07-09 02:15:45,462] Trial 71 finished with value: 0.7117649055750809 and parameters: {'gb__learning_rate': 0.15396963990651763, 'gb__max_leaf_nodes': 38, 'gb__max_depth': 3, 'gb__min_samples_leaf': 17, 'gb__l2_regularization': 1.163434672659599}. Best is trial 46 with value: 0.7137280872949374.\n",
      "[I 2025-07-09 02:15:48,178] Trial 72 finished with value: 0.711772838579849 and parameters: {'gb__learning_rate': 0.16511109971674123, 'gb__max_leaf_nodes': 68, 'gb__max_depth': 5, 'gb__min_samples_leaf': 23, 'gb__l2_regularization': 1.0424829144102212}. Best is trial 46 with value: 0.7137280872949374.\n",
      "[I 2025-07-09 02:15:50,984] Trial 73 finished with value: 0.7113608421580194 and parameters: {'gb__learning_rate': 0.25095391317165233, 'gb__max_leaf_nodes': 81, 'gb__max_depth': 3, 'gb__min_samples_leaf': 14, 'gb__l2_regularization': 0.7733096948786625}. Best is trial 46 with value: 0.7137280872949374.\n",
      "[I 2025-07-09 02:15:56,110] Trial 74 finished with value: 0.7129204734273215 and parameters: {'gb__learning_rate': 0.2034476840355528, 'gb__max_leaf_nodes': 56, 'gb__max_depth': 2, 'gb__min_samples_leaf': 31, 'gb__l2_regularization': 1.2517223680720124}. Best is trial 46 with value: 0.7137280872949374.\n",
      "[I 2025-07-09 02:16:00,812] Trial 75 finished with value: 0.7128270810594074 and parameters: {'gb__learning_rate': 0.20631334104320767, 'gb__max_leaf_nodes': 44, 'gb__max_depth': 2, 'gb__min_samples_leaf': 30, 'gb__l2_regularization': 1.272911325203791}. Best is trial 46 with value: 0.7137280872949374.\n",
      "[I 2025-07-09 02:16:05,238] Trial 76 finished with value: 0.7115831051917825 and parameters: {'gb__learning_rate': 0.21894184552745155, 'gb__max_leaf_nodes': 35, 'gb__max_depth': 2, 'gb__min_samples_leaf': 50, 'gb__l2_regularization': 1.2698590365664821}. Best is trial 46 with value: 0.7137280872949374.\n",
      "[I 2025-07-09 02:16:09,890] Trial 77 finished with value: 0.7130651961723198 and parameters: {'gb__learning_rate': 0.2042452678686346, 'gb__max_leaf_nodes': 25, 'gb__max_depth': 2, 'gb__min_samples_leaf': 40, 'gb__l2_regularization': 1.352074212922069}. Best is trial 46 with value: 0.7137280872949374.\n",
      "[I 2025-07-09 02:16:14,813] Trial 78 finished with value: 0.7124302053993851 and parameters: {'gb__learning_rate': 0.2026625253157873, 'gb__max_leaf_nodes': 43, 'gb__max_depth': 2, 'gb__min_samples_leaf': 66, 'gb__l2_regularization': 1.6016061111587672}. Best is trial 46 with value: 0.7137280872949374.\n",
      "[I 2025-07-09 02:16:19,216] Trial 79 finished with value: 0.712406236619294 and parameters: {'gb__learning_rate': 0.2703013965784273, 'gb__max_leaf_nodes': 22, 'gb__max_depth': 2, 'gb__min_samples_leaf': 43, 'gb__l2_regularization': 1.8539402528503408}. Best is trial 46 with value: 0.7137280872949374.\n",
      "[I 2025-07-09 02:16:25,021] Trial 80 finished with value: 0.6618680557328459 and parameters: {'gb__learning_rate': 0.007678499157231858, 'gb__max_leaf_nodes': 27, 'gb__max_depth': 2, 'gb__min_samples_leaf': 32, 'gb__l2_regularization': 1.5050458165096539}. Best is trial 46 with value: 0.7137280872949374.\n",
      "[I 2025-07-09 02:16:30,618] Trial 81 finished with value: 0.712170483784035 and parameters: {'gb__learning_rate': 0.12913866657757822, 'gb__max_leaf_nodes': 60, 'gb__max_depth': 2, 'gb__min_samples_leaf': 40, 'gb__l2_regularization': 1.3397957333337265}. Best is trial 46 with value: 0.7137280872949374.\n",
      "[I 2025-07-09 02:16:35,184] Trial 82 finished with value: 0.7121812937556843 and parameters: {'gb__learning_rate': 0.19842585978260424, 'gb__max_leaf_nodes': 74, 'gb__max_depth': 2, 'gb__min_samples_leaf': 31, 'gb__l2_regularization': 1.4355964086314283}. Best is trial 46 with value: 0.7137280872949374.\n",
      "[I 2025-07-09 02:16:40,504] Trial 83 finished with value: 0.7123627568411529 and parameters: {'gb__learning_rate': 0.13402563172086174, 'gb__max_leaf_nodes': 43, 'gb__max_depth': 2, 'gb__min_samples_leaf': 26, 'gb__l2_regularization': 1.363960611077328}. Best is trial 46 with value: 0.7137280872949374.\n",
      "[I 2025-07-09 02:16:45,383] Trial 84 finished with value: 0.7113572071262777 and parameters: {'gb__learning_rate': 0.18199075113648608, 'gb__max_leaf_nodes': 36, 'gb__max_depth': 2, 'gb__min_samples_leaf': 39, 'gb__l2_regularization': 1.204336597449295}. Best is trial 46 with value: 0.7137280872949374.\n",
      "[I 2025-07-09 02:16:51,027] Trial 85 finished with value: 0.7102204919025814 and parameters: {'gb__learning_rate': 0.09866761623282368, 'gb__max_leaf_nodes': 53, 'gb__max_depth': 2, 'gb__min_samples_leaf': 22, 'gb__l2_regularization': 1.2399187851443543}. Best is trial 46 with value: 0.7137280872949374.\n",
      "[I 2025-07-09 02:16:54,287] Trial 86 finished with value: 0.7109604303502606 and parameters: {'gb__learning_rate': 0.2568681015805955, 'gb__max_leaf_nodes': 67, 'gb__max_depth': 3, 'gb__min_samples_leaf': 48, 'gb__l2_regularization': 1.0826555851287447}. Best is trial 46 with value: 0.7137280872949374.\n",
      "[I 2025-07-09 02:16:59,582] Trial 87 finished with value: 0.7131771111557123 and parameters: {'gb__learning_rate': 0.1421929783974561, 'gb__max_leaf_nodes': 95, 'gb__max_depth': 2, 'gb__min_samples_leaf': 13, 'gb__l2_regularization': 1.2623843314655814}. Best is trial 46 with value: 0.7137280872949374.\n",
      "[I 2025-07-09 02:17:05,280] Trial 88 finished with value: 0.7068734138623773 and parameters: {'gb__learning_rate': 0.07137760452648065, 'gb__max_leaf_nodes': 104, 'gb__max_depth': 2, 'gb__min_samples_leaf': 33, 'gb__l2_regularization': 1.2771288364064923}. Best is trial 46 with value: 0.7137280872949374.\n",
      "[I 2025-07-09 02:17:09,062] Trial 89 finished with value: 0.7118348845251294 and parameters: {'gb__learning_rate': 0.2125211383687618, 'gb__max_leaf_nodes': 89, 'gb__max_depth': 2, 'gb__min_samples_leaf': 13, 'gb__l2_regularization': 1.4830188473668178}. Best is trial 46 with value: 0.7137280872949374.\n",
      "[I 2025-07-09 02:17:20,610] Trial 90 finished with value: 0.6664888172909176 and parameters: {'gb__learning_rate': 0.00198649837791661, 'gb__max_leaf_nodes': 58, 'gb__max_depth': 6, 'gb__min_samples_leaf': 62, 'gb__l2_regularization': 1.3393535449325904}. Best is trial 46 with value: 0.7137280872949374.\n",
      "[I 2025-07-09 02:17:26,004] Trial 91 finished with value: 0.712647571370701 and parameters: {'gb__learning_rate': 0.14328943765806176, 'gb__max_leaf_nodes': 83, 'gb__max_depth': 2, 'gb__min_samples_leaf': 10, 'gb__l2_regularization': 1.2032677817928388}. Best is trial 46 with value: 0.7137280872949374.\n",
      "[I 2025-07-09 02:17:31,688] Trial 92 finished with value: 0.7116191460100325 and parameters: {'gb__learning_rate': 0.11314423764171377, 'gb__max_leaf_nodes': 97, 'gb__max_depth': 2, 'gb__min_samples_leaf': 27, 'gb__l2_regularization': 0.987674840206658}. Best is trial 46 with value: 0.7137280872949374.\n",
      "[I 2025-07-09 02:17:35,910] Trial 93 finished with value: 0.7114939927513645 and parameters: {'gb__learning_rate': 0.1735258626179255, 'gb__max_leaf_nodes': 29, 'gb__max_depth': 3, 'gb__min_samples_leaf': 23, 'gb__l2_regularization': 1.3970542715251932}. Best is trial 46 with value: 0.7137280872949374.\n",
      "[I 2025-07-09 02:17:41,260] Trial 94 finished with value: 0.711731576345193 and parameters: {'gb__learning_rate': 0.13863494206729285, 'gb__max_leaf_nodes': 75, 'gb__max_depth': 2, 'gb__min_samples_leaf': 16, 'gb__l2_regularization': 1.1209048607327445}. Best is trial 46 with value: 0.7137280872949374.\n",
      "[I 2025-07-09 02:17:45,213] Trial 95 finished with value: 0.7112600954793689 and parameters: {'gb__learning_rate': 0.21078226287800073, 'gb__max_leaf_nodes': 56, 'gb__max_depth': 3, 'gb__min_samples_leaf': 77, 'gb__l2_regularization': 1.2272886479158087}. Best is trial 46 with value: 0.7137280872949374.\n",
      "[I 2025-07-09 02:17:49,291] Trial 96 finished with value: 0.7125411014201444 and parameters: {'gb__learning_rate': 0.2479017978987447, 'gb__max_leaf_nodes': 45, 'gb__max_depth': 2, 'gb__min_samples_leaf': 28, 'gb__l2_regularization': 1.055608202481927}. Best is trial 46 with value: 0.7137280872949374.\n",
      "[I 2025-07-09 02:17:54,483] Trial 97 finished with value: 0.7105587047883336 and parameters: {'gb__learning_rate': 0.12345678553853001, 'gb__max_leaf_nodes': 117, 'gb__max_depth': 2, 'gb__min_samples_leaf': 37, 'gb__l2_regularization': 1.1714403681326204}. Best is trial 46 with value: 0.7137280872949374.\n",
      "[I 2025-07-09 02:18:00,694] Trial 98 finished with value: 0.7122474708289186 and parameters: {'gb__learning_rate': 0.09893964253522755, 'gb__max_leaf_nodes': 94, 'gb__max_depth': 3, 'gb__min_samples_leaf': 20, 'gb__l2_regularization': 1.2984907524311593}. Best is trial 46 with value: 0.7137280872949374.\n",
      "[I 2025-07-09 02:18:06,517] Trial 99 finished with value: 0.6877701053990954 and parameters: {'gb__learning_rate': 0.022992544251347665, 'gb__max_leaf_nodes': 72, 'gb__max_depth': 2, 'gb__min_samples_leaf': 14, 'gb__l2_regularization': 1.101640261099617}. Best is trial 46 with value: 0.7137280872949374.\n"
     ]
    },
    {
     "data": {
      "text/html": [
       "<div>\n",
       "<style scoped>\n",
       "    .dataframe tbody tr th:only-of-type {\n",
       "        vertical-align: middle;\n",
       "    }\n",
       "\n",
       "    .dataframe tbody tr th {\n",
       "        vertical-align: top;\n",
       "    }\n",
       "\n",
       "    .dataframe thead th {\n",
       "        text-align: right;\n",
       "    }\n",
       "</style>\n",
       "<table border=\"1\" class=\"dataframe\">\n",
       "  <thead>\n",
       "    <tr style=\"text-align: right;\">\n",
       "      <th></th>\n",
       "      <th>value</th>\n",
       "      <th>params_gb__learning_rate</th>\n",
       "      <th>params_gb__max_leaf_nodes</th>\n",
       "      <th>params_gb__max_depth</th>\n",
       "      <th>params_gb__min_samples_leaf</th>\n",
       "      <th>params_gb__l2_regularization</th>\n",
       "    </tr>\n",
       "  </thead>\n",
       "  <tbody>\n",
       "    <tr>\n",
       "      <th>46</th>\n",
       "      <td>0.713728</td>\n",
       "      <td>0.161382</td>\n",
       "      <td>58</td>\n",
       "      <td>2</td>\n",
       "      <td>21</td>\n",
       "      <td>1.182016</td>\n",
       "    </tr>\n",
       "    <tr>\n",
       "      <th>52</th>\n",
       "      <td>0.713320</td>\n",
       "      <td>0.163626</td>\n",
       "      <td>30</td>\n",
       "      <td>3</td>\n",
       "      <td>13</td>\n",
       "      <td>1.112802</td>\n",
       "    </tr>\n",
       "    <tr>\n",
       "      <th>87</th>\n",
       "      <td>0.713177</td>\n",
       "      <td>0.142193</td>\n",
       "      <td>95</td>\n",
       "      <td>2</td>\n",
       "      <td>13</td>\n",
       "      <td>1.262384</td>\n",
       "    </tr>\n",
       "    <tr>\n",
       "      <th>77</th>\n",
       "      <td>0.713065</td>\n",
       "      <td>0.204245</td>\n",
       "      <td>25</td>\n",
       "      <td>2</td>\n",
       "      <td>40</td>\n",
       "      <td>1.352074</td>\n",
       "    </tr>\n",
       "    <tr>\n",
       "      <th>47</th>\n",
       "      <td>0.712957</td>\n",
       "      <td>0.152892</td>\n",
       "      <td>59</td>\n",
       "      <td>2</td>\n",
       "      <td>16</td>\n",
       "      <td>1.120981</td>\n",
       "    </tr>\n",
       "  </tbody>\n",
       "</table>\n",
       "</div>"
      ],
      "text/plain": [
       "       value  params_gb__learning_rate  params_gb__max_leaf_nodes  \\\n",
       "46  0.713728                  0.161382                         58   \n",
       "52  0.713320                  0.163626                         30   \n",
       "87  0.713177                  0.142193                         95   \n",
       "77  0.713065                  0.204245                         25   \n",
       "47  0.712957                  0.152892                         59   \n",
       "\n",
       "    params_gb__max_depth  params_gb__min_samples_leaf  \\\n",
       "46                     2                           21   \n",
       "52                     3                           13   \n",
       "87                     2                           13   \n",
       "77                     2                           40   \n",
       "47                     2                           16   \n",
       "\n",
       "    params_gb__l2_regularization  \n",
       "46                      1.182016  \n",
       "52                      1.112802  \n",
       "87                      1.262384  \n",
       "77                      1.352074  \n",
       "47                      1.120981  "
      ]
     },
     "metadata": {},
     "output_type": "display_data"
    },
    {
     "name": "stdout",
     "output_type": "stream",
     "text": [
      "Best F1 Score (Optuna): 0.7137\n"
     ]
    }
   ],
   "source": [
    "# Your code here\n",
    "#set up cv \n",
    "cv = StratifiedKFold(n_splits=5, shuffle=True, random_state=random_seed)\n",
    "f1_scorer = make_scorer(f1_score)\n",
    "def objective(trial):\n",
    "    #params like from problem 2\n",
    "    params = {\n",
    "        \"gb__learning_rate\": trial.suggest_float(\"gb__learning_rate\", 1e-3, 0.3, log=True),\n",
    "        \"gb__max_leaf_nodes\": trial.suggest_int(\"gb__max_leaf_nodes\", 16, 256),\n",
    "        \"gb__max_depth\": trial.suggest_int(\"gb__max_depth\", 2, 10),\n",
    "        \"gb__min_samples_leaf\": trial.suggest_int(\"gb__min_samples_leaf\", 10, 200),\n",
    "        \"gb__l2_regularization\": trial.suggest_float(\"gb__l2_regularization\", 0.0, 2.0),\n",
    "    }\n",
    "    \n",
    "    #set params to pipelined model\n",
    "    pipelined_model.set_params(**params)\n",
    "    \n",
    "    #evaluate model with cross_val_score using f1 scorer\n",
    "    scores = cross_val_score(pipelined_model, X_train, y_train, cv=cv, scoring=f1_scorer, n_jobs=-1)\n",
    "    \n",
    "    #return mean F1 score\n",
    "    return scores.mean()\n",
    "\n",
    "#create study object and optimize\n",
    "study = optuna.create_study(direction=\"maximize\")\n",
    "study.optimize(objective, n_trials=100, n_jobs=1)\n",
    "\n",
    "#put results in dataframe\n",
    "results = study.trials_dataframe()\n",
    "top5 = results.sort_values(by='value', ascending=False).head(5)\n",
    "display(top5[[\"value\", \n",
    "    \"params_gb__learning_rate\",\n",
    "    \"params_gb__max_leaf_nodes\",\n",
    "    \"params_gb__max_depth\",\n",
    "    \"params_gb__min_samples_leaf\",\n",
    "    \"params_gb__l2_regularization\"]])\n",
    "opt_best_f1 = study.best_value\n",
    "print(f\"Best F1 Score (Optuna): {opt_best_f1:.4f}\")"
   ]
  },
  {
   "cell_type": "markdown",
   "metadata": {},
   "source": [
    "### Problem 3 Graded Answer\n",
    "\n",
    "Set `a3` to the mean F1 score of the best model found. "
   ]
  },
  {
   "cell_type": "code",
   "execution_count": 27,
   "metadata": {},
   "outputs": [],
   "source": [
    " # Your answer here\n",
    "\n",
    "a3 = opt_best_f1                     # replace 0 with your answer, may copy from the displayed results"
   ]
  },
  {
   "cell_type": "code",
   "execution_count": 28,
   "metadata": {},
   "outputs": [
    {
     "name": "stdout",
     "output_type": "stream",
     "text": [
      "a3 = 0.7137\n"
     ]
    }
   ],
   "source": [
    "# DO NOT change this cell in any way\n",
    "\n",
    "print(f'a3 = {a3:.4f}')"
   ]
  },
  {
   "cell_type": "markdown",
   "metadata": {},
   "source": [
    "## Problem 4: Final Model Evaluation on Test Set\n",
    "\n",
    "In this problem, you will take the best hyperparameter configuration you found in your earlier experiments (Randomized Search or Optuna) and fully evaluate the resulting model on the test set.\n",
    "\n",
    "**Background:**\n",
    "When performing hyperparameter tuning, we typically optimize for a single metric (e.g., F1). However, before deployment, it is essential to check **all relevant metrics** on the final test set to understand the model’s behavior in a balanced way.\n",
    "\n",
    "**Instructions:**\n",
    "\n",
    "1. Take the best hyperparameters you found in Problems 2 or 3 and apply them to your `pipelined_model`.\n",
    "2. Re-train this final tuned model on the **entire training set** (not just the folds).\n",
    "3. Evaluate the final model on the heldout **test set**, reporting the following metrics:\n",
    "\n",
    "   * Precision\n",
    "   * Recall\n",
    "   * F1 score\n",
    "   * Balanced accuracy\n",
    "4. Use `classification_report` **on the test set** to print precision, recall, and F1 score, and use `balanced_accuracy_score` separately to calculate and print balanced accuracy.\n",
    "5. Answer the graded questions.\n",
    "\n",
    "**Note:** We evaluate the metrics on the test set because it was never seen during training or hyperparameter tuning. This gives us an unbiased estimate of how the model will perform on truly unseen data. Evaluating on the training set would be misleading, because the model has already learned from that data and could appear artificially good.\n"
   ]
  },
  {
   "cell_type": "code",
   "execution_count": 38,
   "metadata": {},
   "outputs": [
    {
     "name": "stdout",
     "output_type": "stream",
     "text": [
      "              precision    recall  f1-score   support\n",
      "\n",
      "           0     0.9516    0.8234    0.8829      7431\n",
      "           1     0.6071    0.8670    0.7141      2338\n",
      "\n",
      "    accuracy                         0.8339      9769\n",
      "   macro avg     0.7794    0.8452    0.7985      9769\n",
      "weighted avg     0.8692    0.8339    0.8425      9769\n",
      "\n",
      "0.845211330611745\n"
     ]
    }
   ],
   "source": [
    "# Your code here\n",
    "#best hyperparams from p3\n",
    "best_params = {\n",
    "    'gb__learning_rate': 0.161382,\n",
    "    'gb__max_leaf_nodes': 58,\n",
    "    'gb__max_depth': 2,\n",
    "    'gb__min_samples_leaf': 21,\n",
    "    'gb__l2_regularization': 1.182016\n",
    "}\n",
    "#set to pipelined_model and fit model on training set \n",
    "pipelined_model.set_params(**best_params)\n",
    "pipelined_model.fit(X_train, y_train)\n",
    "y_pred = pipelined_model.predict(X_test)\n",
    "#evaluate on test set \n",
    "print(classification_report(y_test, y_pred, digits=4))\n",
    "#get classification report as dictionary \n",
    "report = classification_report(y_test, y_pred, output_dict=True)\n",
    "#use balanced_accuracy_score \n",
    "balanced_acc = balanced_accuracy_score(y_test, y_pred)\n",
    "print(balanced_acc)"
   ]
  },
  {
   "cell_type": "code",
   "execution_count": 39,
   "metadata": {},
   "outputs": [],
   "source": [
    "ba_score = balanced_accuracy_score(y_test, y_pred)\n",
    "macro_avg_prec = report['macro avg']['precision']\n",
    "macro_avg_recall = report['macro avg']['recall']"
   ]
  },
  {
   "cell_type": "markdown",
   "metadata": {},
   "source": [
    "### Problem 4 Graded Questions\n",
    "\n",
    "- Set `a4a` to the balanced accuracy score of the best model.\n",
    "- Set `a4b` to the macro average precision of this model.\n",
    "- Set `a4c` to the macro average recall score of the this model.\n",
    "\n",
    "**Note:** Macro average takes the mean of each class’s precision/recall without considering how many samples each class has, which is appropriate for a balanced evaluation."
   ]
  },
  {
   "cell_type": "code",
   "execution_count": 40,
   "metadata": {},
   "outputs": [],
   "source": [
    " # Your answer here\n",
    "\n",
    "a4a = ba_score                     # replace 0 with your answer, use variable or expression from above"
   ]
  },
  {
   "cell_type": "code",
   "execution_count": 41,
   "metadata": {},
   "outputs": [
    {
     "name": "stdout",
     "output_type": "stream",
     "text": [
      "a4a = 0.8452\n"
     ]
    }
   ],
   "source": [
    "# DO NOT change this cell in any way\n",
    "\n",
    "print(f'a4a = {a4a:.4f}')"
   ]
  },
  {
   "cell_type": "code",
   "execution_count": 42,
   "metadata": {},
   "outputs": [],
   "source": [
    " # Your answer here\n",
    "\n",
    "a4b = macro_avg_prec                     # replace 0 with your answer, may copy from the displayed results"
   ]
  },
  {
   "cell_type": "code",
   "execution_count": 43,
   "metadata": {},
   "outputs": [
    {
     "name": "stdout",
     "output_type": "stream",
     "text": [
      "a4b = 0.7794\n"
     ]
    }
   ],
   "source": [
    "# DO NOT change this cell in any way\n",
    "\n",
    "print(f'a4b = {a4b:.4f}')"
   ]
  },
  {
   "cell_type": "code",
   "execution_count": 44,
   "metadata": {},
   "outputs": [],
   "source": [
    " # Your answer here\n",
    "\n",
    "a4c = macro_avg_recall                     # replace 0 with your answer, may copy from the displayed results"
   ]
  },
  {
   "cell_type": "code",
   "execution_count": 45,
   "metadata": {},
   "outputs": [
    {
     "name": "stdout",
     "output_type": "stream",
     "text": [
      "a4c = 0.8452\n"
     ]
    }
   ],
   "source": [
    "# DO NOT change this cell in any way\n",
    "\n",
    "print(f'a4c = {a4c:.4f}')"
   ]
  },
  {
   "cell_type": "markdown",
   "metadata": {},
   "source": [
    "## Problem 5: Understanding Precision, Recall, F1, and Balanced Accuracy\n",
    "\n",
    "**Tutorial**\n",
    "\n",
    "In binary classification, you will often evaluate these key metrics:\n",
    "\n",
    "* **Precision**: *Of all the positive predictions the model made, how many were actually correct?*\n",
    "\n",
    "  * High precision = few false positives\n",
    "  * Low precision = many false positives\n",
    "\n",
    "* **Recall**: *Of all the actual positive cases, how many did the model correctly identify?*\n",
    "\n",
    "  * High recall = few false negatives\n",
    "  * Low recall = many false negatives\n",
    "\n",
    "* **F1 score**: The harmonic mean of precision and recall, which balances them in a single measure.\n",
    "\n",
    "  * F1 is **highest** when precision and recall are both high and similar in value.\n",
    "  * If precision and recall are unbalanced, F1 will drop to reflect that imbalance.\n",
    "\n",
    "* **Balanced accuracy**: The average of recall across both classes (positive and negative).\n",
    "\n",
    "  * It ensures the classifier is performing reasonably well on *both* groups, correcting for class imbalance.\n",
    "  * Balanced accuracy is especially important if the classes are very unequal in size.\n",
    "\n",
    "**Typical trade-offs to remember:**\n",
    "\n",
    "* **Higher recall, lower precision**: the model finds most true positives but also mislabels some negatives as positives\n",
    "* **Higher precision, lower recall**: the model is strict about positive predictions, but misses some true positives\n",
    "* **Balanced precision and recall (good F1)**: a practical compromise\n",
    "* **Balanced accuracy**: checks fairness across both classes"
   ]
  },
  {
   "cell_type": "markdown",
   "metadata": {},
   "source": [
    "###  Problem 5 Graded Question (multiple choice)\n",
    "\n",
    "A bank uses your model to identify customers earning over $50K for a premium product invitation. Based on your final test set evaluation, including macro-averaged precision and recall, which of the following best describes what might happen?\n",
    "\n",
    "(1) The bank will miss some eligible high-income customers, but will avoid marketing mistakes by sending invitations only to those it is  confident about.\n",
    "\n",
    "(2) The bank will successfully reach most high-income customers, but will also waste resources sending invitations to some low-income customers.\n",
    "\n",
    "(3) The bank will perfectly identify all high-income and low-income customers, resulting in no wasted invitations and no missed opportunities.\n"
   ]
  },
  {
   "cell_type": "code",
   "execution_count": 46,
   "metadata": {},
   "outputs": [],
   "source": [
    " # Your answer here\n",
    "\n",
    "a5 = 2                     # replace 0 with one of 1, 2, or 3"
   ]
  },
  {
   "cell_type": "code",
   "execution_count": 47,
   "metadata": {},
   "outputs": [
    {
     "name": "stdout",
     "output_type": "stream",
     "text": [
      "a5 = 2\n"
     ]
    }
   ],
   "source": [
    "# DO NOT change this cell in any way\n",
    "\n",
    "print(f'a5 = {a5}')"
   ]
  },
  {
   "cell_type": "markdown",
   "metadata": {},
   "source": [
    "### Appendix One: Feature Engineering\n",
    "\n",
    "Here are some practical feature-engineering tweaks worth considering (beyond simply ordinal-encoding the categoricals)\n",
    "\n",
    "| Feature(s)                                                           | Why the tweak can help                                                                                                                                                     | How to do it (quick version)                                                                                                                                                    | Keep / drop?      |\n",
    "| -------------------------------------------------------------------- | -------------------------------------------------------------------------------------------------------------------------------------------------------------------------- | ------------------------------------------------------------------------------------------------------------------------------------------------------------------------------- | ----------------- |\n",
    "| **`fnlwgt`**                                                         | Survey sampling weight, not a predictor. Leaving it in often lets the model “cheat.”                                                                                       | `df = df.drop(columns=[\"fnlwgt\"])`                                                                                                                                              | **Drop**          |\n",
    "| **`education` *vs.* `education-num`**                                | They encode the **same** information twice (categorical label and its ordinal rank). Keeping both is redundant and can cause leakage of a perfectly predictive feature.    | Usually keep **only one**. For tree models `education-num` is simplest: `df = df.drop(columns=[\"education\"])`                                                                   | **Drop one**      |\n",
    "| **`capital-gain`, `capital-loss`**                                   | Highly skewed; most values are zero with a long upper tail. The sign (gain vs. loss) matters, but treating them separately wastes a feature slot.                          | 1) Combine: `df[\"capital_net\"] = df[\"capital-gain\"] - df[\"capital-loss\"]`; 2) Log-transform to reduce skew: `df[\"capital_net_log\"] = np.log1p(df[\"capital_net\"].clip(lower=0))` | Replace originals |\n",
    "| **`age`, `hours-per-week`**                                          | Continuous but with natural plateaus—trees handle splits fine, yet log or square-root scaling can soften extreme values; bucketing makes partial-dependence plots clearer. | Simple bucket: `df[\"age_bin\"] = pd.cut(df[\"age\"], bins=[16,25,35,45,55,65,90])` (optional)                                                                                      | Optional          |\n",
    "| **Missing categories** (`workclass`, `occupation`, `native-country`) | HGB handles `-1`/`-2` codes fine, but you may want *explicit* “Missing” bucket for interpretability.                                                                       | Use `encoded_missing_value=-2` during encoding.                                                                                                            | Keep as is        |\n",
    "| **Rare categories in `native-country`**                              | Hundreds of low-frequency countries dilute signal; grouping boosts stability.                                                                                              | Map infrequent categories to “Other”:                                                                                                                                           |                   |\n",
    "\n",
    "\n",
    "#### Minimum set of tweaks (good baseline, low effort)\n",
    "\n",
    "1. **Drop `fnlwgt`.**  \n",
    "2. **Keep `education-num`, drop `education`.**  \n",
    "3. **Combine `capital-gain` and `capital-loss` into `capital_net`** (optionally add a log-scaled version).  \n",
    "4. Leave other numeric/categorical features as is; your histogram-GBDT will cope.\n",
    "\n",
    "\n"
   ]
  }
 ],
 "metadata": {
  "kernelspec": {
   "display_name": "Python 3",
   "language": "python",
   "name": "python3"
  },
  "language_info": {
   "codemirror_mode": {
    "name": "ipython",
    "version": 3
   },
   "file_extension": ".py",
   "mimetype": "text/x-python",
   "name": "python",
   "nbconvert_exporter": "python",
   "pygments_lexer": "ipython3",
   "version": "3.12.1"
  }
 },
 "nbformat": 4,
 "nbformat_minor": 4
}
